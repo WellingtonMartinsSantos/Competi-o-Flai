{
  "nbformat": 4,
  "nbformat_minor": 0,
  "metadata": {
    "colab": {
      "name": "IV Desafio de Machine Learning da Flai.ipynb",
      "provenance": [],
      "collapsed_sections": [],
      "authorship_tag": "ABX9TyNpBoZZw/Ao8dybfdQi9nn9",
      "include_colab_link": true
    },
    "kernelspec": {
      "display_name": "Python 3",
      "name": "python3"
    },
    "language_info": {
      "name": "python"
    }
  },
  "cells": [
    {
      "cell_type": "markdown",
      "metadata": {
        "id": "view-in-github",
        "colab_type": "text"
      },
      "source": [
        "<a href=\"https://colab.research.google.com/github/WellingtonMartinsSantos/Competi-o-Flai/blob/main/IV_Desafio_de_Machine_Learning_da_Flai.ipynb\" target=\"_parent\"><img src=\"https://colab.research.google.com/assets/colab-badge.svg\" alt=\"Open In Colab\"/></a>"
      ]
    },
    {
      "cell_type": "markdown",
      "metadata": {
        "id": "MHQ0qXhcy_yS"
      },
      "source": [
        "<h1 align='center' >Empresa de Telecomunicação</h1>\n",
        "\n",
        "<p align=\"center\">\n",
        "<img align='center' src=\"https://github.com/WellingtonMartinsSantos/Competi-o-Flai/blob/main/Data/Titulo%20Competi%C3%A7%C3%A3o.PNG?raw=true\">\n",
        "</p>\n",
        "\n",
        "---\n",
        "\n",
        "Alguma vez você já se perguntou porque o retângulo verde na tela do seu celular aparece? Por que ao conversar com um amigo sobre a compra de um tênis, notebook ou uma camisa, lhe aparecerá anúncios em suas redes sociais, sites ou até mesmo e-mail? Essas são algumas das aplicações de Machine Learning, que visam melhorar o desempenho de uma tarefa ou, dependendo da aplicação, tomar a decisão mais apropriada para o contexto. Essas regras são geradas com base no reconhecimento de padrões dentro dos dados analisados.   \n",
        "\n",
        "\n",
        "Como proposta para o 4º Desafio de Machine Learning da Flai, dado um conjunto de dados de uma empresa de telecomunicação para prever se um cliente é Premium ou Normal. Esse é um dos problemas em uma empresa de telecomunicação e a aplicação de machine learning em conjunto com a análise de dados nos auxiliará a dizer qual é categoria dos clientes, para gerar efetividade na venda dos produtos, assim, reduzindo os custos e aumentando os lucros.\n",
        "\n",
        "O objetivo principal do desafio era modelar uma solução que apresentasse o melhor F1-Score na previsão da categoria dos clientes segundo os dados fornecidos. \n",
        "\n",
        "Vamos abordar aqui algumas técnicas de pré-processamento e de predição que nos levaram ao décimo sexto na competição. Vamos tentar entender quais fatores levam um cliente a ser Premium ou Normal, tentando responder algumas perguntas sobre o perfil do cliente:\n",
        "1. Fatores como Genero, Suporte Técnico, Tenure(a posse), Segurança online e OnlineBackup têm alguma ligação com a categória do cliente?\n",
        "2. Se o cliente possui Serviço de telefone, dependentes ou parceiro que leva uma representatividade na resposta?\n",
        "\n",
        "Para responder a essas perguntas e obtermos uma boa predição seguiremos algumas etapas:\n",
        "* Entendimento do problema\n",
        "* Obtenção dos dados\n",
        "* Análise exploratória dos dados\n",
        "* Pré-Processamento\n",
        "* Modelagem\n",
        "* Combinação de Modelos\n",
        "\n",
        "\n",
        "\n",
        "**Resumo do que será abordado neste projeto**\n",
        "\n",
        "Competição de classificação binária a partir de um conjunto com variáveis qualitativas e quantitativas sem valores faltantes. Foi feita uma análise exploratória e manipulação das variáveis. Como método de validação foi utilizado o K-Fold (10-Folds) estratificado com a métrica F1-Score. Dentre os modelos de aprendizagem de máquina, se destacaram o AdaBoost, Rede Neural MLP e Gradient Boosting. Para solução final foi utilizado a combinação destes três modelos com o método Hard, depois de um GridSearch dos melhores hiperparâmetros. O F1-Score alcançado: 93,1489 %.\n",
        "\n",
        "---\n",
        "<p align=\"center\">\n",
        "<img src=\"https://github.com/WellingtonMartinsSantos/Competi-o-Flai/blob/main/Data/CorpoCompeti%C3%A7%C3%A3o.PNG?raw=true\" />\n",
        "</p>\n",
        "\n",
        "---\n"
      ]
    },
    {
      "cell_type": "markdown",
      "metadata": {
        "id": "zbgbsYz305C5"
      },
      "source": [
        "#Sumário\n",
        "1. Importação dos dados\n",
        "2. Análise Exploratória\n",
        "3. Pré-processamento\n",
        "4. Modelagem\n",
        "5. Busca por Melhores Hiperparâmetros\n",
        "6. Combinação por votos\n",
        "7. Submissão\n",
        "8. Conclusões\n",
        "9. Considerações"
      ]
    },
    {
      "cell_type": "markdown",
      "metadata": {
        "id": "W8ft2rGa1R1_"
      },
      "source": [
        "# 1 Importação dos dados"
      ]
    },
    {
      "cell_type": "markdown",
      "metadata": {
        "id": "nbgzH8ND1W78"
      },
      "source": [
        "##1.1 Bibliotecas\n",
        "Primeiro, devemos importar algumas bibliotecas. _Pandas_ e _Numpy_ para manipulação do Conjunto de Dados, _Seaborn_ e _Matplot_ para criação de gráficos."
      ]
    },
    {
      "cell_type": "code",
      "metadata": {
        "id": "zTivc7y6fTLg"
      },
      "source": [
        "import pandas as pd \n",
        "import numpy as  np \n",
        "import seaborn as sns \n",
        "import matplotlib.pyplot as plt \n",
        "\n",
        "from sklearn.preprocessing import StandardScaler #Para normalização de intervalos\n",
        "\n",
        "#from sklearn.feature_selection import SelectFromModel #seleção de váriaveis pela importancia nos resultados\n",
        "#from matplotlib.axes._axes import _log as matplotlib_axes_logger\n",
        "#Algorítimos de aprendizagem\n",
        "from sklearn.ensemble import RandomTreesEmbedding, ExtraTreesClassifier, AdaBoostClassifier, GradientBoostingClassifier, VotingClassifier\n",
        "from sklearn.ensemble import RandomForestClassifier\n",
        "from sklearn.model_selection import cross_validate, RepeatedStratifiedKFold \n",
        "from sklearn.linear_model import LogisticRegression, Perceptron, PassiveAggressiveClassifier\n",
        "from sklearn.discriminant_analysis import LinearDiscriminantAnalysis, QuadraticDiscriminantAnalysis\n",
        "from sklearn.neighbors import KNeighborsClassifier\n",
        "from sklearn.ensemble import BaggingClassifier\n",
        "from sklearn.neural_network import MLPClassifier \n",
        "from sklearn.tree import DecisionTreeClassifier\n",
        "from sklearn.svm import SVC\n",
        "from sklearn.naive_bayes import GaussianNB\n",
        "from sklearn.dummy import DummyClassifier\n",
        "\n",
        "#Modelos de busca por melhores parâmetros de modelos\n",
        "from sklearn.model_selection import GridSearchCV\n",
        "from sklearn.model_selection import RandomizedSearchCV\n",
        "from time import time#contagem de tempo para execução de tarefas"
      ],
      "execution_count": null,
      "outputs": []
    },
    {
      "cell_type": "markdown",
      "metadata": {
        "id": "pbcSCn4v2FDT"
      },
      "source": [
        "##1.2 Importação do Conjunto de dados\n",
        "O conjunto **Treino** contem a variável resposta de interesse (_Cliente_)  e o conjunto **Teste** contem todas as colunas do conjunto de treino, menos a variável resposta. O Treino é o conjunto que deve ser _predito_ pelo modelo criado e enviado para submissão da competição."
      ]
    },
    {
      "cell_type": "code",
      "metadata": {
        "id": "NM-TUFBq2X0E"
      },
      "source": [
        "# importanto os conjuntos de dados disponíveis nesta mesma pasta Data\n",
        "treino = pd.read_csv('https://raw.githubusercontent.com/WellingtonMartinsSantos/Competi-o-Flai/main/Data/treino.csv')\n",
        "sub = pd.read_csv('https://raw.githubusercontent.com/WellingtonMartinsSantos/Competi-o-Flai/main/Data/teste.csv')\n"
      ],
      "execution_count": null,
      "outputs": []
    },
    {
      "cell_type": "markdown",
      "metadata": {
        "id": "IQqMo_KR6EcY"
      },
      "source": [
        "#2 Análise Exploratória de Dados"
      ]
    },
    {
      "cell_type": "markdown",
      "metadata": {
        "id": "iu72oInW6a_M"
      },
      "source": [
        "##2.1 Valores nulos e tipos de colunas"
      ]
    },
    {
      "cell_type": "code",
      "metadata": {
        "colab": {
          "base_uri": "https://localhost:8080/"
        },
        "id": "gNe512MPhrhs",
        "outputId": "63d68e8d-180a-4ea3-eb66-b6cfa4958d2e"
      },
      "source": [
        "print(\"Valores no Conjunto de TREINO:\\n\")\n",
        "print(treino.info())"
      ],
      "execution_count": null,
      "outputs": [
        {
          "output_type": "stream",
          "text": [
            "Valores no Conjunto de TREINO:\n",
            "\n",
            "<class 'pandas.core.frame.DataFrame'>\n",
            "RangeIndex: 2500 entries, 0 to 2499\n",
            "Data columns (total 18 columns):\n",
            " #   Column            Non-Null Count  Dtype \n",
            "---  ------            --------------  ----- \n",
            " 0   gender            2500 non-null   object\n",
            " 1   SeniorCitizen     2500 non-null   int64 \n",
            " 2   Partner           2500 non-null   object\n",
            " 3   Dependents        2500 non-null   object\n",
            " 4   tenure            2500 non-null   int64 \n",
            " 5   PhoneService      2500 non-null   object\n",
            " 6   MultipleLines     2500 non-null   object\n",
            " 7   InternetService   2500 non-null   object\n",
            " 8   OnlineSecurity    2500 non-null   object\n",
            " 9   OnlineBackup      2500 non-null   object\n",
            " 10  DeviceProtection  2500 non-null   object\n",
            " 11  TechSupport       2500 non-null   object\n",
            " 12  StreamingTV       2500 non-null   object\n",
            " 13  StreamingMovies   2500 non-null   object\n",
            " 14  Contract          2500 non-null   object\n",
            " 15  PaperlessBilling  2500 non-null   object\n",
            " 16  PaymentMethod     2500 non-null   object\n",
            " 17  Cliente           2500 non-null   object\n",
            "dtypes: int64(2), object(16)\n",
            "memory usage: 351.7+ KB\n",
            "None\n"
          ],
          "name": "stdout"
        }
      ]
    },
    {
      "cell_type": "code",
      "metadata": {
        "colab": {
          "base_uri": "https://localhost:8080/"
        },
        "id": "IVx_STwGh3rX",
        "outputId": "d438153e-19f7-449c-862e-4021ede90765"
      },
      "source": [
        "print(\"\\n\\nValores no Conjunto da Submissão:\\n\")\n",
        "print(sub.info())\n"
      ],
      "execution_count": null,
      "outputs": [
        {
          "output_type": "stream",
          "text": [
            "\n",
            "\n",
            "Valores no Conjunto da Submissão:\n",
            "\n",
            "<class 'pandas.core.frame.DataFrame'>\n",
            "RangeIndex: 2500 entries, 0 to 2499\n",
            "Data columns (total 17 columns):\n",
            " #   Column            Non-Null Count  Dtype \n",
            "---  ------            --------------  ----- \n",
            " 0   gender            2500 non-null   object\n",
            " 1   SeniorCitizen     2500 non-null   int64 \n",
            " 2   Partner           2500 non-null   object\n",
            " 3   Dependents        2500 non-null   object\n",
            " 4   tenure            2500 non-null   int64 \n",
            " 5   PhoneService      2500 non-null   object\n",
            " 6   MultipleLines     2500 non-null   object\n",
            " 7   InternetService   2500 non-null   object\n",
            " 8   OnlineSecurity    2500 non-null   object\n",
            " 9   OnlineBackup      2500 non-null   object\n",
            " 10  DeviceProtection  2500 non-null   object\n",
            " 11  TechSupport       2500 non-null   object\n",
            " 12  StreamingTV       2500 non-null   object\n",
            " 13  StreamingMovies   2500 non-null   object\n",
            " 14  Contract          2500 non-null   object\n",
            " 15  PaperlessBilling  2500 non-null   object\n",
            " 16  PaymentMethod     2500 non-null   object\n",
            "dtypes: int64(2), object(15)\n",
            "memory usage: 332.2+ KB\n",
            "None\n"
          ],
          "name": "stdout"
        }
      ]
    },
    {
      "cell_type": "markdown",
      "metadata": {
        "id": "cBzkjLHI67f2"
      },
      "source": [
        "O comando \"info\" mostra o total de observações em cada coluna, bem como o tipo de dado daquela coluna, se é numérico ou texto. \n",
        "\n",
        "Ambos conjuntos de dados possuem a quantia de linhas que foram informadas pelo enunciado da competição (2500 treino, e 2500 submissão). Mostrando que não há dados faltantes. Caso houvesse, poderíamos utilizar a média ou a mediana para preencher esses dados para os numéricos, ou utilizar um algoritmo, como o KNN para preencher esses dados com uma predição no próprio conjunto.\n",
        "\n",
        "Podemos ver que há variáveis numéricas (int64) e string (object). Muitos algoritmos não suportam strings, por isso precisaremos transformar essas colunas futuramente."
      ]
    },
    {
      "cell_type": "markdown",
      "metadata": {
        "id": "--zf_jp87htv"
      },
      "source": [
        "##2.2 Vizualização do Conjunto de dados\n",
        "Como o objetivo é tentar prever a categoria dos clientes, trabalharemos apenas com o conjunto de dados de Treinamento (que possui a variável resposta) para realizar o treinamento de algoritmos supervisionados.\n",
        "\n",
        "O comando _head_ oferece as primeiras linhas do conjunto de dados.\n"
      ]
    },
    {
      "cell_type": "code",
      "metadata": {
        "colab": {
          "base_uri": "https://localhost:8080/",
          "height": 292
        },
        "id": "Vg_4pE8tiWYP",
        "outputId": "d8c9e607-f4fd-4a7c-b984-92bdb24737ab"
      },
      "source": [
        "treino.head()"
      ],
      "execution_count": null,
      "outputs": [
        {
          "output_type": "execute_result",
          "data": {
            "text/html": [
              "<div>\n",
              "<style scoped>\n",
              "    .dataframe tbody tr th:only-of-type {\n",
              "        vertical-align: middle;\n",
              "    }\n",
              "\n",
              "    .dataframe tbody tr th {\n",
              "        vertical-align: top;\n",
              "    }\n",
              "\n",
              "    .dataframe thead th {\n",
              "        text-align: right;\n",
              "    }\n",
              "</style>\n",
              "<table border=\"1\" class=\"dataframe\">\n",
              "  <thead>\n",
              "    <tr style=\"text-align: right;\">\n",
              "      <th></th>\n",
              "      <th>gender</th>\n",
              "      <th>SeniorCitizen</th>\n",
              "      <th>Partner</th>\n",
              "      <th>Dependents</th>\n",
              "      <th>tenure</th>\n",
              "      <th>PhoneService</th>\n",
              "      <th>MultipleLines</th>\n",
              "      <th>InternetService</th>\n",
              "      <th>OnlineSecurity</th>\n",
              "      <th>OnlineBackup</th>\n",
              "      <th>DeviceProtection</th>\n",
              "      <th>TechSupport</th>\n",
              "      <th>StreamingTV</th>\n",
              "      <th>StreamingMovies</th>\n",
              "      <th>Contract</th>\n",
              "      <th>PaperlessBilling</th>\n",
              "      <th>PaymentMethod</th>\n",
              "      <th>Cliente</th>\n",
              "    </tr>\n",
              "  </thead>\n",
              "  <tbody>\n",
              "    <tr>\n",
              "      <th>0</th>\n",
              "      <td>Female</td>\n",
              "      <td>0</td>\n",
              "      <td>No</td>\n",
              "      <td>No</td>\n",
              "      <td>20</td>\n",
              "      <td>Yes</td>\n",
              "      <td>No</td>\n",
              "      <td>No</td>\n",
              "      <td>No internet service</td>\n",
              "      <td>No internet service</td>\n",
              "      <td>No internet service</td>\n",
              "      <td>No internet service</td>\n",
              "      <td>No internet service</td>\n",
              "      <td>No internet service</td>\n",
              "      <td>Two year</td>\n",
              "      <td>No</td>\n",
              "      <td>Mailed check</td>\n",
              "      <td>Normal</td>\n",
              "    </tr>\n",
              "    <tr>\n",
              "      <th>1</th>\n",
              "      <td>Female</td>\n",
              "      <td>0</td>\n",
              "      <td>Yes</td>\n",
              "      <td>Yes</td>\n",
              "      <td>59</td>\n",
              "      <td>Yes</td>\n",
              "      <td>Yes</td>\n",
              "      <td>DSL</td>\n",
              "      <td>Yes</td>\n",
              "      <td>Yes</td>\n",
              "      <td>No</td>\n",
              "      <td>Yes</td>\n",
              "      <td>No</td>\n",
              "      <td>No</td>\n",
              "      <td>One year</td>\n",
              "      <td>No</td>\n",
              "      <td>Mailed check</td>\n",
              "      <td>Premium</td>\n",
              "    </tr>\n",
              "    <tr>\n",
              "      <th>2</th>\n",
              "      <td>Female</td>\n",
              "      <td>0</td>\n",
              "      <td>Yes</td>\n",
              "      <td>Yes</td>\n",
              "      <td>68</td>\n",
              "      <td>No</td>\n",
              "      <td>No phone service</td>\n",
              "      <td>DSL</td>\n",
              "      <td>No</td>\n",
              "      <td>Yes</td>\n",
              "      <td>Yes</td>\n",
              "      <td>Yes</td>\n",
              "      <td>Yes</td>\n",
              "      <td>Yes</td>\n",
              "      <td>Two year</td>\n",
              "      <td>No</td>\n",
              "      <td>Credit card (automatic)</td>\n",
              "      <td>Premium</td>\n",
              "    </tr>\n",
              "    <tr>\n",
              "      <th>3</th>\n",
              "      <td>Female</td>\n",
              "      <td>0</td>\n",
              "      <td>No</td>\n",
              "      <td>Yes</td>\n",
              "      <td>35</td>\n",
              "      <td>Yes</td>\n",
              "      <td>Yes</td>\n",
              "      <td>DSL</td>\n",
              "      <td>No</td>\n",
              "      <td>No</td>\n",
              "      <td>No</td>\n",
              "      <td>No</td>\n",
              "      <td>No</td>\n",
              "      <td>No</td>\n",
              "      <td>Month-to-month</td>\n",
              "      <td>No</td>\n",
              "      <td>Mailed check</td>\n",
              "      <td>Premium</td>\n",
              "    </tr>\n",
              "    <tr>\n",
              "      <th>4</th>\n",
              "      <td>Male</td>\n",
              "      <td>1</td>\n",
              "      <td>No</td>\n",
              "      <td>No</td>\n",
              "      <td>1</td>\n",
              "      <td>Yes</td>\n",
              "      <td>No</td>\n",
              "      <td>DSL</td>\n",
              "      <td>No</td>\n",
              "      <td>No</td>\n",
              "      <td>No</td>\n",
              "      <td>No</td>\n",
              "      <td>No</td>\n",
              "      <td>No</td>\n",
              "      <td>Month-to-month</td>\n",
              "      <td>No</td>\n",
              "      <td>Electronic check</td>\n",
              "      <td>Normal</td>\n",
              "    </tr>\n",
              "  </tbody>\n",
              "</table>\n",
              "</div>"
            ],
            "text/plain": [
              "   gender  SeniorCitizen  ...            PaymentMethod  Cliente\n",
              "0  Female              0  ...             Mailed check   Normal\n",
              "1  Female              0  ...             Mailed check  Premium\n",
              "2  Female              0  ...  Credit card (automatic)  Premium\n",
              "3  Female              0  ...             Mailed check  Premium\n",
              "4    Male              1  ...         Electronic check   Normal\n",
              "\n",
              "[5 rows x 18 columns]"
            ]
          },
          "metadata": {
            "tags": []
          },
          "execution_count": 7
        }
      ]
    },
    {
      "cell_type": "markdown",
      "metadata": {
        "id": "t2jlegQP7zhm"
      },
      "source": [
        "##2.3 Separando colunas categóricas e numéricas\n",
        "Vamos mapear o conjunto de dados em colunas do tipo _objeto_ e as numericas (_int64_).\n",
        "\n",
        "Faremos essa análise separadamente, pois para cada tipo de coluna traz uma informação diferente dos dados."
      ]
    },
    {
      "cell_type": "code",
      "metadata": {
        "id": "vj6Wd5lxijg-"
      },
      "source": [
        "coluna_numerica = treino.columns[treino.dtypes == \"int64\"] #Colunas de variáveis numericas\n",
        "coluna_object = treino.columns[treino.dtypes == \"object\"] #Colunas do tipo numéricas"
      ],
      "execution_count": null,
      "outputs": []
    },
    {
      "cell_type": "markdown",
      "metadata": {
        "id": "cpOGOnMs8NPA"
      },
      "source": [
        "###2.3.1 Colunas Categóricas\n",
        "\n",
        "Vamos fazer uma contagem das observações e categorias de cada coluna, para termos uma noção de como nosso conjunto de dados esta distribuido."
      ]
    },
    {
      "cell_type": "code",
      "metadata": {
        "colab": {
          "base_uri": "https://localhost:8080/"
        },
        "id": "UuVTE5j_imoO",
        "outputId": "b00122c0-3b01-4f22-ec9e-79a649a2757c"
      },
      "source": [
        "for i in coluna_object:\n",
        "  print(\"Coluna: \",i)\n",
        "  print(treino[i].value_counts(), \"\\n\")"
      ],
      "execution_count": null,
      "outputs": [
        {
          "output_type": "stream",
          "text": [
            "Coluna:  gender\n",
            "Male      1285\n",
            "Female    1215\n",
            "Name: gender, dtype: int64 \n",
            "\n",
            "Coluna:  Partner\n",
            "No     1278\n",
            "Yes    1222\n",
            "Name: Partner, dtype: int64 \n",
            "\n",
            "Coluna:  Dependents\n",
            "No     1754\n",
            "Yes     746\n",
            "Name: Dependents, dtype: int64 \n",
            "\n",
            "Coluna:  PhoneService\n",
            "Yes    2261\n",
            "No      239\n",
            "Name: PhoneService, dtype: int64 \n",
            "\n",
            "Coluna:  MultipleLines\n",
            "No                  1236\n",
            "Yes                 1025\n",
            "No phone service     239\n",
            "Name: MultipleLines, dtype: int64 \n",
            "\n",
            "Coluna:  InternetService\n",
            "Fiber optic    1079\n",
            "DSL             880\n",
            "No              541\n",
            "Name: InternetService, dtype: int64 \n",
            "\n",
            "Coluna:  OnlineSecurity\n",
            "No                     1253\n",
            "Yes                     706\n",
            "No internet service     541\n",
            "Name: OnlineSecurity, dtype: int64 \n",
            "\n",
            "Coluna:  OnlineBackup\n",
            "No                     1114\n",
            "Yes                     845\n",
            "No internet service     541\n",
            "Name: OnlineBackup, dtype: int64 \n",
            "\n",
            "Coluna:  DeviceProtection\n",
            "No                     1089\n",
            "Yes                     870\n",
            "No internet service     541\n",
            "Name: DeviceProtection, dtype: int64 \n",
            "\n",
            "Coluna:  TechSupport\n",
            "No                     1235\n",
            "Yes                     724\n",
            "No internet service     541\n",
            "Name: TechSupport, dtype: int64 \n",
            "\n",
            "Coluna:  StreamingTV\n",
            "No                     989\n",
            "Yes                    970\n",
            "No internet service    541\n",
            "Name: StreamingTV, dtype: int64 \n",
            "\n",
            "Coluna:  StreamingMovies\n",
            "No                     1028\n",
            "Yes                     931\n",
            "No internet service     541\n",
            "Name: StreamingMovies, dtype: int64 \n",
            "\n",
            "Coluna:  Contract\n",
            "Month-to-month    1373\n",
            "Two year           594\n",
            "One year           533\n",
            "Name: Contract, dtype: int64 \n",
            "\n",
            "Coluna:  PaperlessBilling\n",
            "Yes    1456\n",
            "No     1044\n",
            "Name: PaperlessBilling, dtype: int64 \n",
            "\n",
            "Coluna:  PaymentMethod\n",
            "Electronic check             833\n",
            "Mailed check                 602\n",
            "Bank transfer (automatic)    544\n",
            "Credit card (automatic)      521\n",
            "Name: PaymentMethod, dtype: int64 \n",
            "\n",
            "Coluna:  Cliente\n",
            "Normal     1323\n",
            "Premium    1177\n",
            "Name: Cliente, dtype: int64 \n",
            "\n"
          ],
          "name": "stdout"
        }
      ]
    },
    {
      "cell_type": "markdown",
      "metadata": {
        "id": "70zXiUFl8gUN"
      },
      "source": [
        "Agora temos uma noção de como estão distribuídas as categorias.\n",
        "É possível ver que a coluna _PhoneService_ tem uma relação de menos de 11% dos dados como inadimplentes. Outras colunas também apresentam uma grande concentração em uma única categoria, vamos fazer uma análise gráfica para tirar mais algumas informações.\n"
      ]
    },
    {
      "cell_type": "markdown",
      "metadata": {
        "id": "ENLZxp-H98zh"
      },
      "source": [
        "####2.3.1.1 Análise Gráfica Variáveis Categóricas\n",
        "Aqui vamos buscar relações entre a chance de ser um cliente Premium ou Normal com alguma das colunas categóricas. \n",
        "Essa visão nos permite inferir algumas informações sobre o impacto de cada categoria sob a variável resposta de interesse (_Cliente_)."
      ]
    },
    {
      "cell_type": "code",
      "metadata": {
        "colab": {
          "base_uri": "https://localhost:8080/",
          "height": 1000
        },
        "id": "mhV4b8gEj1cv",
        "outputId": "e55841be-8355-493b-f918-53487eed7991"
      },
      "source": [
        "f, ax = plt.subplots(figsize=(20, 30))\n",
        "for i in range(1,17):\n",
        "  plt.subplot(8,2,i)\n",
        "  sns.countplot(data = treino, y=coluna_object[i-1], hue='Cliente')"
      ],
      "execution_count": null,
      "outputs": [
        {
          "output_type": "display_data",
          "data": {
            "image/png": "[encoded data removed]",
            "text/plain": [
              "<Figure size 1440x2160 with 16 Axes>"
            ]
          },
          "metadata": {
            "tags": [],
            "needs_background": "light"
          }
        }
      ]
    },
    {
      "cell_type": "markdown",
      "metadata": {
        "id": "HDzOCpX-CnQQ"
      },
      "source": [
        "Podemos observar que aqueles que tem como resposta Yes(sim) para  _DeviceProtection_, _StreamingTV_, _StreamingMovies_, _OnlineBackup_, _TechSuport_, _OnlineSecurity_ e _MultipleLines_  têm uma maior chance de ser um cliente Premium. \n",
        "\n",
        "Também notamos essa relação para resposta No Internet service (Sem serviço de internet) para variaveis _InternetService_,  _OnlineBackup_, _StreamingMovies_, _TechSuport_, _DeviceProtection_, _StreamingTV_, _OnlineSecurity_,  em que tem uma chance maior de ser um cliente Normal. \n",
        "\n",
        "Observamos também que o metódo de pagamento (_PaymentMethod_) - Mailed check e _MultipleLines_ - No, têm maior chance de ser um cliente Normal, se comparado com os outros.\n",
        "\n",
        "Já para as caracterisiticas _PhoneService_, _gender_, _Dependents_, _Partner_ e _PaperlessBilling_ temos uma relação praticamente neutra."
      ]
    },
    {
      "cell_type": "markdown",
      "metadata": {
        "id": "8nyi7_JmMp_E"
      },
      "source": [
        "###2.3.2 Colunas Numéricas"
      ]
    },
    {
      "cell_type": "markdown",
      "metadata": {
        "id": "WwwStLW6Mvqd"
      },
      "source": [
        "####2.3.2.1 Gráfico Variáveis numericas\n",
        "Para as variáveis numéricas faremos um gráfico que criar pequenos agrupamentos de valores parecidos e ver sua representatividade no conjunto de dados ao mesmo tempo que analisamos comparativamente com a variável resposta."
      ]
    },
    {
      "cell_type": "code",
      "metadata": {
        "colab": {
          "base_uri": "https://localhost:8080/",
          "height": 542
        },
        "id": "9F79ZjmkpEMO",
        "outputId": "64f5a727-2fac-407f-c856-0b4c72c95d99"
      },
      "source": [
        "f, ax = plt.subplots(figsize=(20, 30))\n",
        "for i in range(1,2):\n",
        "  plt.subplot(3,2,i)\n",
        "  sns.histplot(treino, x=coluna_numerica[i], hue='Cliente')\n",
        "  ax.xaxis.grid(True)\n",
        "  sns.despine(trim=True, left=True)"
      ],
      "execution_count": null,
      "outputs": [
        {
          "output_type": "display_data",
          "data": {
            "image/png": "[encoded data removed]",
            "text/plain": [
              "<Figure size 1440x2160 with 1 Axes>"
            ]
          },
          "metadata": {
            "tags": [],
            "needs_background": "light"
          }
        }
      ]
    },
    {
      "cell_type": "markdown",
      "metadata": {
        "id": "_21p6OqUQ7oS"
      },
      "source": [
        "Podemos observar que para a Posse/titular (_tenure_) a maioria dos clientes Normal se encontra entre os 0 e 20, e por volta de 25 a 70 sendo mais propensos a clientes Premium."
      ]
    },
    {
      "cell_type": "markdown",
      "metadata": {
        "id": "-vvpg6wGSPkN"
      },
      "source": [
        "####2.3.2.2 Identificando Outliers\n",
        "Vamos utilizar um gráfico boxplot para vizualizar a distribuição dos dados em suas faixas de valores.\n",
        "\n",
        "A faixa central do gráfico mostra a mediana (termo central), os quartis limitados pela caixa, e os valores muito acima ou muito baixo dos quartis.\n",
        "\n",
        "Essa análise nos ajuda a identificar valores muito discrepantes em relação aos demais, e onde se concentram a maioria dos valores."
      ]
    },
    {
      "cell_type": "code",
      "metadata": {
        "colab": {
          "base_uri": "https://localhost:8080/",
          "height": 222
        },
        "id": "KzHu0N9urmQz",
        "outputId": "14f8eca7-fa59-4ccb-a7c5-83a0416efc04"
      },
      "source": [
        "f, ax = plt.subplots(figsize=(20, 10))\n",
        "\n",
        "for i in range(1,2):\n",
        "  plt.subplot(3,2,i)\n",
        "  sns.boxplot(x = treino[coluna_numerica[i]], width=.6, palette=\"BuGn\")\n",
        "  ax.xaxis.grid(True)\n",
        "  ax.set(ylabel=\"\")\n",
        "  sns.despine(trim=True, left=True)"
      ],
      "execution_count": null,
      "outputs": [
        {
          "output_type": "display_data",
          "data": {
            "image/png": "[encoded data removed]",
            "text/plain": [
              "<Figure size 1440x720 with 1 Axes>"
            ]
          },
          "metadata": {
            "tags": [],
            "needs_background": "light"
          }
        }
      ]
    },
    {
      "cell_type": "markdown",
      "metadata": {
        "id": "umZ2fL_6ShgP"
      },
      "source": [
        "O Titular (_tenure_) possui os valores em uma faixa de 0 a 70, com a médiana próximo de trinta. A distribuição dos valores não apresentam nenhuma anormalidade/ discrepancia significatica para analise dos dados."
      ]
    },
    {
      "cell_type": "markdown",
      "metadata": {
        "id": "X1eRss1kURj2"
      },
      "source": [
        "####2.3.2.3 Identificação de uma particularidade nos dados"
      ]
    },
    {
      "cell_type": "code",
      "metadata": {
        "colab": {
          "base_uri": "https://localhost:8080/"
        },
        "id": "_mRwN3d_u24K",
        "outputId": "553dffe4-98a0-4309-9f69-dcd39a9047e3"
      },
      "source": [
        "#eliminar duplicates\n",
        "data_treino = treino.drop_duplicates(ignore_index=True)\n",
        "data_treino.shape #mostra a quantidade final de colununas\n"
      ],
      "execution_count": null,
      "outputs": [
        {
          "output_type": "execute_result",
          "data": {
            "text/plain": [
              "(2392, 18)"
            ]
          },
          "metadata": {
            "tags": []
          },
          "execution_count": 13
        }
      ]
    },
    {
      "cell_type": "markdown",
      "metadata": {
        "id": "DMKqQqx6VEaZ"
      },
      "source": [
        "#3 Pré-Processamento\n",
        "Com a de exploração de dados finalizada, conseguimos tirar boas conclusões do conjunto de dados e com isso determinar possíveis abordagens para o pré-processamento.\n",
        "\n",
        "Vamos realizar uma cópia do conjunto de dados e, a cada etapa, gerar um novo conjunto modificado. Quando o conjunto de dados é pequeno, manter uma cópia da etapa anterior é benéfico para que possamos voltar algumas etapas sem precisar rodar todo o código novamente, mas para grandes conjuntos isso pode se tornar um problema, devido a demanda por armazenamento."
      ]
    },
    {
      "cell_type": "markdown",
      "metadata": {
        "id": "U2YIpZBmV4cv"
      },
      "source": [
        "##3.1 Mapeando colunas\n",
        " Como mencionado, é preciso que todas as colunas do tipo _objetc_, ou seja, aquelas que possuem texto sejam transformadas em colunas numéricas para que os modelos de machile learnin possam funcionar. \n",
        "\n",
        "Vamos transformar as colunas categóricas que possuem apenas as respostas SIM e NÃO em \n",
        "\"0\" para NÃO e \"1\" para SIM."
      ]
    },
    {
      "cell_type": "code",
      "metadata": {
        "colab": {
          "base_uri": "https://localhost:8080/",
          "height": 292
        },
        "id": "aqBQdx-CwVzB",
        "outputId": "e5bb5ec6-12f3-4e6b-af29-92f2fda71a37"
      },
      "source": [
        "#Mapeando em 0  e 1 as colunas bivariadas comum a todos\n",
        "data_treino_map = data_treino.copy()\n",
        "data_sub = sub.copy()\n",
        "data_treino_map['Partner'] = data_treino_map['Partner'].map({'Yes': 1, 'No':0})\n",
        "data_treino_map['Dependents'] = data_treino_map['Dependents'].map({'Yes': 1, 'No':0})\n",
        "data_treino_map['PhoneService'] = data_treino_map['PhoneService'].map({'Yes': 1, 'No':0})\n",
        "data_treino_map['PaperlessBilling'] = data_treino_map['PaperlessBilling'].map({'Yes': 1, 'No':0})\n",
        "data_treino_map['gender'] = data_treino_map['gender'].map({'Male': 1, 'Female':0})\n",
        "data_treino_map['Cliente'] = data_treino_map['Cliente'].map({'Normal': 0, 'Premium': 1})\n",
        "data_treino_map.head()"
      ],
      "execution_count": null,
      "outputs": [
        {
          "output_type": "execute_result",
          "data": {
            "text/html": [
              "<div>\n",
              "<style scoped>\n",
              "    .dataframe tbody tr th:only-of-type {\n",
              "        vertical-align: middle;\n",
              "    }\n",
              "\n",
              "    .dataframe tbody tr th {\n",
              "        vertical-align: top;\n",
              "    }\n",
              "\n",
              "    .dataframe thead th {\n",
              "        text-align: right;\n",
              "    }\n",
              "</style>\n",
              "<table border=\"1\" class=\"dataframe\">\n",
              "  <thead>\n",
              "    <tr style=\"text-align: right;\">\n",
              "      <th></th>\n",
              "      <th>gender</th>\n",
              "      <th>SeniorCitizen</th>\n",
              "      <th>Partner</th>\n",
              "      <th>Dependents</th>\n",
              "      <th>tenure</th>\n",
              "      <th>PhoneService</th>\n",
              "      <th>MultipleLines</th>\n",
              "      <th>InternetService</th>\n",
              "      <th>OnlineSecurity</th>\n",
              "      <th>OnlineBackup</th>\n",
              "      <th>DeviceProtection</th>\n",
              "      <th>TechSupport</th>\n",
              "      <th>StreamingTV</th>\n",
              "      <th>StreamingMovies</th>\n",
              "      <th>Contract</th>\n",
              "      <th>PaperlessBilling</th>\n",
              "      <th>PaymentMethod</th>\n",
              "      <th>Cliente</th>\n",
              "    </tr>\n",
              "  </thead>\n",
              "  <tbody>\n",
              "    <tr>\n",
              "      <th>0</th>\n",
              "      <td>0</td>\n",
              "      <td>0</td>\n",
              "      <td>0</td>\n",
              "      <td>0</td>\n",
              "      <td>20</td>\n",
              "      <td>1</td>\n",
              "      <td>No</td>\n",
              "      <td>No</td>\n",
              "      <td>No internet service</td>\n",
              "      <td>No internet service</td>\n",
              "      <td>No internet service</td>\n",
              "      <td>No internet service</td>\n",
              "      <td>No internet service</td>\n",
              "      <td>No internet service</td>\n",
              "      <td>Two year</td>\n",
              "      <td>0</td>\n",
              "      <td>Mailed check</td>\n",
              "      <td>0</td>\n",
              "    </tr>\n",
              "    <tr>\n",
              "      <th>1</th>\n",
              "      <td>0</td>\n",
              "      <td>0</td>\n",
              "      <td>1</td>\n",
              "      <td>1</td>\n",
              "      <td>59</td>\n",
              "      <td>1</td>\n",
              "      <td>Yes</td>\n",
              "      <td>DSL</td>\n",
              "      <td>Yes</td>\n",
              "      <td>Yes</td>\n",
              "      <td>No</td>\n",
              "      <td>Yes</td>\n",
              "      <td>No</td>\n",
              "      <td>No</td>\n",
              "      <td>One year</td>\n",
              "      <td>0</td>\n",
              "      <td>Mailed check</td>\n",
              "      <td>1</td>\n",
              "    </tr>\n",
              "    <tr>\n",
              "      <th>2</th>\n",
              "      <td>0</td>\n",
              "      <td>0</td>\n",
              "      <td>1</td>\n",
              "      <td>1</td>\n",
              "      <td>68</td>\n",
              "      <td>0</td>\n",
              "      <td>No phone service</td>\n",
              "      <td>DSL</td>\n",
              "      <td>No</td>\n",
              "      <td>Yes</td>\n",
              "      <td>Yes</td>\n",
              "      <td>Yes</td>\n",
              "      <td>Yes</td>\n",
              "      <td>Yes</td>\n",
              "      <td>Two year</td>\n",
              "      <td>0</td>\n",
              "      <td>Credit card (automatic)</td>\n",
              "      <td>1</td>\n",
              "    </tr>\n",
              "    <tr>\n",
              "      <th>3</th>\n",
              "      <td>0</td>\n",
              "      <td>0</td>\n",
              "      <td>0</td>\n",
              "      <td>1</td>\n",
              "      <td>35</td>\n",
              "      <td>1</td>\n",
              "      <td>Yes</td>\n",
              "      <td>DSL</td>\n",
              "      <td>No</td>\n",
              "      <td>No</td>\n",
              "      <td>No</td>\n",
              "      <td>No</td>\n",
              "      <td>No</td>\n",
              "      <td>No</td>\n",
              "      <td>Month-to-month</td>\n",
              "      <td>0</td>\n",
              "      <td>Mailed check</td>\n",
              "      <td>1</td>\n",
              "    </tr>\n",
              "    <tr>\n",
              "      <th>4</th>\n",
              "      <td>1</td>\n",
              "      <td>1</td>\n",
              "      <td>0</td>\n",
              "      <td>0</td>\n",
              "      <td>1</td>\n",
              "      <td>1</td>\n",
              "      <td>No</td>\n",
              "      <td>DSL</td>\n",
              "      <td>No</td>\n",
              "      <td>No</td>\n",
              "      <td>No</td>\n",
              "      <td>No</td>\n",
              "      <td>No</td>\n",
              "      <td>No</td>\n",
              "      <td>Month-to-month</td>\n",
              "      <td>0</td>\n",
              "      <td>Electronic check</td>\n",
              "      <td>0</td>\n",
              "    </tr>\n",
              "  </tbody>\n",
              "</table>\n",
              "</div>"
            ],
            "text/plain": [
              "   gender  SeniorCitizen  ...            PaymentMethod  Cliente\n",
              "0       0              0  ...             Mailed check        0\n",
              "1       0              0  ...             Mailed check        1\n",
              "2       0              0  ...  Credit card (automatic)        1\n",
              "3       0              0  ...             Mailed check        1\n",
              "4       1              1  ...         Electronic check        0\n",
              "\n",
              "[5 rows x 18 columns]"
            ]
          },
          "metadata": {
            "tags": []
          },
          "execution_count": 14
        }
      ]
    },
    {
      "cell_type": "markdown",
      "metadata": {
        "id": "7vfZ2msZWqbw"
      },
      "source": [
        "##3.2 Normalizando os valores\n",
        "\n",
        "Para um melhor desempenho dos algoritimos valos padronizar os valores, para que eles tenham a mesma faixa de valores. Isso é preciso para que alguns dados com valores muito altos não sejam interpretados como mais importantes que outros dados. Por isso vamos tentar deixar todas as colunas com faixas de valores similares entre -2 e 2.\n",
        "\n",
        "> Por exemplo, a coluna _tenure_ possui valores de 0 a 70, enquanto a coluna _\tSeniorCitizen_ possui valores de 0 e 1. Para os algoritmos os valores de _tenure_ podem ser interpretados com maior importância (peso) que os valores de _SeniorCitizen_, o que não é nescessarimanete verdade.\n",
        "\n",
        "Utilizaremos a função _StandardScaler_. Onde para cada entrada de cada coluna é subtraída a média da coluna e divido pelo desvio padrão daquela coluna. Isso faz com que não percamos informação durante a transformação, mantendo a essência do dado."
      ]
    },
    {
      "cell_type": "code",
      "metadata": {
        "colab": {
          "base_uri": "https://localhost:8080/",
          "height": 292
        },
        "id": "ei7FFx1425Ye",
        "outputId": "d7a3f5b5-6b93-4f66-e006-8cbba27f66c1"
      },
      "source": [
        "sc = StandardScaler()\n",
        "data_treino_norm = data_treino_map.copy()\n",
        "aux0 = sc.fit_transform(data_treino_norm[['tenure']])#faz o ajuste, calculo da média e do desvio padrão. (- a mpedia) / desvio padrão\n",
        "aux1 = pd.DataFrame(aux0, columns = ['Tenure'])#transforma num data frame o numpy array e adicionado ao data frame\n",
        "data_treino_norm = pd.concat([data_treino_norm, aux1], axis = 1)#concatena com o o conjunto de dados\n",
        "data_treino_norm.drop(['tenure'], axis = 1, inplace = True) #dropa as colunas antigas do conjunto de dados\n",
        "data_treino_norm.head(5)"
      ],
      "execution_count": null,
      "outputs": [
        {
          "output_type": "execute_result",
          "data": {
            "text/html": [
              "<div>\n",
              "<style scoped>\n",
              "    .dataframe tbody tr th:only-of-type {\n",
              "        vertical-align: middle;\n",
              "    }\n",
              "\n",
              "    .dataframe tbody tr th {\n",
              "        vertical-align: top;\n",
              "    }\n",
              "\n",
              "    .dataframe thead th {\n",
              "        text-align: right;\n",
              "    }\n",
              "</style>\n",
              "<table border=\"1\" class=\"dataframe\">\n",
              "  <thead>\n",
              "    <tr style=\"text-align: right;\">\n",
              "      <th></th>\n",
              "      <th>gender</th>\n",
              "      <th>SeniorCitizen</th>\n",
              "      <th>Partner</th>\n",
              "      <th>Dependents</th>\n",
              "      <th>PhoneService</th>\n",
              "      <th>MultipleLines</th>\n",
              "      <th>InternetService</th>\n",
              "      <th>OnlineSecurity</th>\n",
              "      <th>OnlineBackup</th>\n",
              "      <th>DeviceProtection</th>\n",
              "      <th>TechSupport</th>\n",
              "      <th>StreamingTV</th>\n",
              "      <th>StreamingMovies</th>\n",
              "      <th>Contract</th>\n",
              "      <th>PaperlessBilling</th>\n",
              "      <th>PaymentMethod</th>\n",
              "      <th>Cliente</th>\n",
              "      <th>Tenure</th>\n",
              "    </tr>\n",
              "  </thead>\n",
              "  <tbody>\n",
              "    <tr>\n",
              "      <th>0</th>\n",
              "      <td>0</td>\n",
              "      <td>0</td>\n",
              "      <td>0</td>\n",
              "      <td>0</td>\n",
              "      <td>1</td>\n",
              "      <td>No</td>\n",
              "      <td>No</td>\n",
              "      <td>No internet service</td>\n",
              "      <td>No internet service</td>\n",
              "      <td>No internet service</td>\n",
              "      <td>No internet service</td>\n",
              "      <td>No internet service</td>\n",
              "      <td>No internet service</td>\n",
              "      <td>Two year</td>\n",
              "      <td>0</td>\n",
              "      <td>Mailed check</td>\n",
              "      <td>0</td>\n",
              "      <td>-0.545398</td>\n",
              "    </tr>\n",
              "    <tr>\n",
              "      <th>1</th>\n",
              "      <td>0</td>\n",
              "      <td>0</td>\n",
              "      <td>1</td>\n",
              "      <td>1</td>\n",
              "      <td>1</td>\n",
              "      <td>Yes</td>\n",
              "      <td>DSL</td>\n",
              "      <td>Yes</td>\n",
              "      <td>Yes</td>\n",
              "      <td>No</td>\n",
              "      <td>Yes</td>\n",
              "      <td>No</td>\n",
              "      <td>No</td>\n",
              "      <td>One year</td>\n",
              "      <td>0</td>\n",
              "      <td>Mailed check</td>\n",
              "      <td>1</td>\n",
              "      <td>1.069760</td>\n",
              "    </tr>\n",
              "    <tr>\n",
              "      <th>2</th>\n",
              "      <td>0</td>\n",
              "      <td>0</td>\n",
              "      <td>1</td>\n",
              "      <td>1</td>\n",
              "      <td>0</td>\n",
              "      <td>No phone service</td>\n",
              "      <td>DSL</td>\n",
              "      <td>No</td>\n",
              "      <td>Yes</td>\n",
              "      <td>Yes</td>\n",
              "      <td>Yes</td>\n",
              "      <td>Yes</td>\n",
              "      <td>Yes</td>\n",
              "      <td>Two year</td>\n",
              "      <td>0</td>\n",
              "      <td>Credit card (automatic)</td>\n",
              "      <td>1</td>\n",
              "      <td>1.442489</td>\n",
              "    </tr>\n",
              "    <tr>\n",
              "      <th>3</th>\n",
              "      <td>0</td>\n",
              "      <td>0</td>\n",
              "      <td>0</td>\n",
              "      <td>1</td>\n",
              "      <td>1</td>\n",
              "      <td>Yes</td>\n",
              "      <td>DSL</td>\n",
              "      <td>No</td>\n",
              "      <td>No</td>\n",
              "      <td>No</td>\n",
              "      <td>No</td>\n",
              "      <td>No</td>\n",
              "      <td>No</td>\n",
              "      <td>Month-to-month</td>\n",
              "      <td>0</td>\n",
              "      <td>Mailed check</td>\n",
              "      <td>1</td>\n",
              "      <td>0.075817</td>\n",
              "    </tr>\n",
              "    <tr>\n",
              "      <th>4</th>\n",
              "      <td>1</td>\n",
              "      <td>1</td>\n",
              "      <td>0</td>\n",
              "      <td>0</td>\n",
              "      <td>1</td>\n",
              "      <td>No</td>\n",
              "      <td>DSL</td>\n",
              "      <td>No</td>\n",
              "      <td>No</td>\n",
              "      <td>No</td>\n",
              "      <td>No</td>\n",
              "      <td>No</td>\n",
              "      <td>No</td>\n",
              "      <td>Month-to-month</td>\n",
              "      <td>0</td>\n",
              "      <td>Electronic check</td>\n",
              "      <td>0</td>\n",
              "      <td>-1.332270</td>\n",
              "    </tr>\n",
              "  </tbody>\n",
              "</table>\n",
              "</div>"
            ],
            "text/plain": [
              "   gender  SeniorCitizen  Partner  ...            PaymentMethod  Cliente    Tenure\n",
              "0       0              0        0  ...             Mailed check        0 -0.545398\n",
              "1       0              0        1  ...             Mailed check        1  1.069760\n",
              "2       0              0        1  ...  Credit card (automatic)        1  1.442489\n",
              "3       0              0        0  ...             Mailed check        1  0.075817\n",
              "4       1              1        0  ...         Electronic check        0 -1.332270\n",
              "\n",
              "[5 rows x 18 columns]"
            ]
          },
          "metadata": {
            "tags": []
          },
          "execution_count": 15
        }
      ]
    },
    {
      "cell_type": "markdown",
      "metadata": {
        "id": "XxrUiYT-YhDq"
      },
      "source": [
        "##3.3 Testando abordagens distintas\n",
        "A maioria dos algoritmos de Machine Learning não suportam entradas de valores que não sejam numéricos, por isso precisamos transformar todos os dados deste tipo em números. Para isso tentaremos fazer algumas transformações diferentes e ver qual tem o melhor resultado F1-Score. Então tentaremos:\n",
        "1. Transformar todas as categorias em números;\n",
        "2. Transformar cada categoria em uma nova coluna (Dummy);\n",
        "3. Fazer uma combinação destas duas."
      ]
    },
    {
      "cell_type": "markdown",
      "metadata": {
        "id": "33iLpu1lY1Aj"
      },
      "source": [
        "###3.3.1 Transformando variáveis Categóricas em numéricas\n",
        "Vamos simplesmente identificar as categorias presentes em cada coluna e atribuir um número ordinal a ela. \n",
        "\n",
        "Para a coluna _TechSupport_, por exemplo, transformaremos No em 0, Yes em 1 e No internet service em 2.\n",
        "\n",
        "Observe que ao final só temos números nas colunas."
      ]
    },
    {
      "cell_type": "code",
      "metadata": {
        "colab": {
          "base_uri": "https://localhost:8080/",
          "height": 224
        },
        "id": "ddkLwgT13JWq",
        "outputId": "c2e8ddc4-dccd-4886-acc9-0ed4f6664556"
      },
      "source": [
        "data_treino_norm_num = data_treino_norm.copy()\n",
        "\n",
        "data_treino_norm_num['OnlineSecurity'] = data_treino_norm_num['OnlineSecurity'].map({'No': 0, 'Yes':1,'No internet service': 2})\n",
        "data_treino_norm_num['OnlineBackup'] = data_treino_norm_num['OnlineBackup'].map({'No': 0, 'Yes':1,'No internet service': 2})\n",
        "data_treino_norm_num['DeviceProtection'] = data_treino_norm_num['DeviceProtection'].map({'No': 0, 'Yes':1,'No internet service': 2})\n",
        "data_treino_norm_num['TechSupport'] = data_treino_norm_num['TechSupport'].map({'No': 0, 'Yes':1,'No internet service': 2})\n",
        "data_treino_norm_num['StreamingTV'] = data_treino_norm_num['StreamingTV'].map({'No': 0, 'Yes':1,'No internet service': 2})\n",
        "data_treino_norm_num['StreamingMovies'] = data_treino_norm_num['StreamingMovies'].map({'No': 0, 'Yes':1,'No internet service': 2})\n",
        "data_treino_norm_num['Contract'] = data_treino_norm_num['Contract'].map({'Month-to-month': 0, 'Two year':1,'One year': 2})\n",
        "data_treino_norm_num['MultipleLines'] = data_treino_norm_num['MultipleLines'].map({'No': 0, 'Yes':1,'No phone service': 2})\n",
        "data_treino_norm_num['InternetService'] = data_treino_norm_num['InternetService'].map({'Fiber optic': 0, 'DSL': 1,'No': 2})\n",
        "data_treino_norm_num['PaymentMethod'] = data_treino_norm_num['PaymentMethod'].map({'Electronic check': 0, 'Mailed check': 1,'Bank transfer (automatic)': 2,'Credit card (automatic)':3})\n",
        "\n",
        "data_treino_norm_num.head()\n"
      ],
      "execution_count": null,
      "outputs": [
        {
          "output_type": "execute_result",
          "data": {
            "text/html": [
              "<div>\n",
              "<style scoped>\n",
              "    .dataframe tbody tr th:only-of-type {\n",
              "        vertical-align: middle;\n",
              "    }\n",
              "\n",
              "    .dataframe tbody tr th {\n",
              "        vertical-align: top;\n",
              "    }\n",
              "\n",
              "    .dataframe thead th {\n",
              "        text-align: right;\n",
              "    }\n",
              "</style>\n",
              "<table border=\"1\" class=\"dataframe\">\n",
              "  <thead>\n",
              "    <tr style=\"text-align: right;\">\n",
              "      <th></th>\n",
              "      <th>gender</th>\n",
              "      <th>SeniorCitizen</th>\n",
              "      <th>Partner</th>\n",
              "      <th>Dependents</th>\n",
              "      <th>PhoneService</th>\n",
              "      <th>MultipleLines</th>\n",
              "      <th>InternetService</th>\n",
              "      <th>OnlineSecurity</th>\n",
              "      <th>OnlineBackup</th>\n",
              "      <th>DeviceProtection</th>\n",
              "      <th>TechSupport</th>\n",
              "      <th>StreamingTV</th>\n",
              "      <th>StreamingMovies</th>\n",
              "      <th>Contract</th>\n",
              "      <th>PaperlessBilling</th>\n",
              "      <th>PaymentMethod</th>\n",
              "      <th>Cliente</th>\n",
              "      <th>Tenure</th>\n",
              "    </tr>\n",
              "  </thead>\n",
              "  <tbody>\n",
              "    <tr>\n",
              "      <th>0</th>\n",
              "      <td>0</td>\n",
              "      <td>0</td>\n",
              "      <td>0</td>\n",
              "      <td>0</td>\n",
              "      <td>1</td>\n",
              "      <td>0</td>\n",
              "      <td>2</td>\n",
              "      <td>2</td>\n",
              "      <td>2</td>\n",
              "      <td>2</td>\n",
              "      <td>2</td>\n",
              "      <td>2</td>\n",
              "      <td>2</td>\n",
              "      <td>1</td>\n",
              "      <td>0</td>\n",
              "      <td>1</td>\n",
              "      <td>0</td>\n",
              "      <td>-0.545398</td>\n",
              "    </tr>\n",
              "    <tr>\n",
              "      <th>1</th>\n",
              "      <td>0</td>\n",
              "      <td>0</td>\n",
              "      <td>1</td>\n",
              "      <td>1</td>\n",
              "      <td>1</td>\n",
              "      <td>1</td>\n",
              "      <td>1</td>\n",
              "      <td>1</td>\n",
              "      <td>1</td>\n",
              "      <td>0</td>\n",
              "      <td>1</td>\n",
              "      <td>0</td>\n",
              "      <td>0</td>\n",
              "      <td>2</td>\n",
              "      <td>0</td>\n",
              "      <td>1</td>\n",
              "      <td>1</td>\n",
              "      <td>1.069760</td>\n",
              "    </tr>\n",
              "    <tr>\n",
              "      <th>2</th>\n",
              "      <td>0</td>\n",
              "      <td>0</td>\n",
              "      <td>1</td>\n",
              "      <td>1</td>\n",
              "      <td>0</td>\n",
              "      <td>2</td>\n",
              "      <td>1</td>\n",
              "      <td>0</td>\n",
              "      <td>1</td>\n",
              "      <td>1</td>\n",
              "      <td>1</td>\n",
              "      <td>1</td>\n",
              "      <td>1</td>\n",
              "      <td>1</td>\n",
              "      <td>0</td>\n",
              "      <td>3</td>\n",
              "      <td>1</td>\n",
              "      <td>1.442489</td>\n",
              "    </tr>\n",
              "    <tr>\n",
              "      <th>3</th>\n",
              "      <td>0</td>\n",
              "      <td>0</td>\n",
              "      <td>0</td>\n",
              "      <td>1</td>\n",
              "      <td>1</td>\n",
              "      <td>1</td>\n",
              "      <td>1</td>\n",
              "      <td>0</td>\n",
              "      <td>0</td>\n",
              "      <td>0</td>\n",
              "      <td>0</td>\n",
              "      <td>0</td>\n",
              "      <td>0</td>\n",
              "      <td>0</td>\n",
              "      <td>0</td>\n",
              "      <td>1</td>\n",
              "      <td>1</td>\n",
              "      <td>0.075817</td>\n",
              "    </tr>\n",
              "    <tr>\n",
              "      <th>4</th>\n",
              "      <td>1</td>\n",
              "      <td>1</td>\n",
              "      <td>0</td>\n",
              "      <td>0</td>\n",
              "      <td>1</td>\n",
              "      <td>0</td>\n",
              "      <td>1</td>\n",
              "      <td>0</td>\n",
              "      <td>0</td>\n",
              "      <td>0</td>\n",
              "      <td>0</td>\n",
              "      <td>0</td>\n",
              "      <td>0</td>\n",
              "      <td>0</td>\n",
              "      <td>0</td>\n",
              "      <td>0</td>\n",
              "      <td>0</td>\n",
              "      <td>-1.332270</td>\n",
              "    </tr>\n",
              "  </tbody>\n",
              "</table>\n",
              "</div>"
            ],
            "text/plain": [
              "   gender  SeniorCitizen  Partner  ...  PaymentMethod  Cliente    Tenure\n",
              "0       0              0        0  ...              1        0 -0.545398\n",
              "1       0              0        1  ...              1        1  1.069760\n",
              "2       0              0        1  ...              3        1  1.442489\n",
              "3       0              0        0  ...              1        1  0.075817\n",
              "4       1              1        0  ...              0        0 -1.332270\n",
              "\n",
              "[5 rows x 18 columns]"
            ]
          },
          "metadata": {
            "tags": []
          },
          "execution_count": 16
        }
      ]
    },
    {
      "cell_type": "markdown",
      "metadata": {
        "id": "KOYDfRwMZ23O"
      },
      "source": [
        "###3.3.2 Dummy das colunas\n",
        "Ao invés de atribuir um valor arbitrário, vamos simplesmente criar uma nova coluna para aquela categoria atribuindo o valor 1 para sim e 0 para não.\n",
        "\n",
        "Para a mesma coluna _TechSupport_, criaremos três novas colunas: _TechSupport_No_, _TechSupport_Yes_ e _TechSupport_No internet Service_. Sendo atribuídos o valor 1 a apenas uma destas colunas, indicando se a pessoa tem,ou não tem suporte técnico em colunas diferentes.\n",
        "\n",
        "Isso nem sempre é uma boa prática, pois acaba gerando muitas colunas novas, deixando um conjunto de dados muito maior."
      ]
    },
    {
      "cell_type": "code",
      "metadata": {
        "colab": {
          "base_uri": "https://localhost:8080/"
        },
        "id": "RVGJFL68AVbv",
        "outputId": "5596509a-2230-411b-c6d6-c5d1021d558d"
      },
      "source": [
        "data_treino_norm_dumi = data_treino_norm.copy()\n",
        "data_treino_norm_dumi = pd.get_dummies(data_treino_norm_dumi, columns = ['OnlineSecurity', 'OnlineBackup', 'DeviceProtection', 'TechSupport', 'StreamingTV', 'StreamingMovies','Contract','MultipleLines','InternetService','PaymentMethod'])\n",
        "data_treino_norm_dumi.head()\n",
        "data_treino_norm_dumi.info()"
      ],
      "execution_count": null,
      "outputs": [
        {
          "output_type": "stream",
          "text": [
            "<class 'pandas.core.frame.DataFrame'>\n",
            "RangeIndex: 2392 entries, 0 to 2391\n",
            "Data columns (total 39 columns):\n",
            " #   Column                                   Non-Null Count  Dtype  \n",
            "---  ------                                   --------------  -----  \n",
            " 0   gender                                   2392 non-null   int64  \n",
            " 1   SeniorCitizen                            2392 non-null   int64  \n",
            " 2   Partner                                  2392 non-null   int64  \n",
            " 3   Dependents                               2392 non-null   int64  \n",
            " 4   PhoneService                             2392 non-null   int64  \n",
            " 5   PaperlessBilling                         2392 non-null   int64  \n",
            " 6   Cliente                                  2392 non-null   int64  \n",
            " 7   Tenure                                   2392 non-null   float64\n",
            " 8   OnlineSecurity_No                        2392 non-null   uint8  \n",
            " 9   OnlineSecurity_No internet service       2392 non-null   uint8  \n",
            " 10  OnlineSecurity_Yes                       2392 non-null   uint8  \n",
            " 11  OnlineBackup_No                          2392 non-null   uint8  \n",
            " 12  OnlineBackup_No internet service         2392 non-null   uint8  \n",
            " 13  OnlineBackup_Yes                         2392 non-null   uint8  \n",
            " 14  DeviceProtection_No                      2392 non-null   uint8  \n",
            " 15  DeviceProtection_No internet service     2392 non-null   uint8  \n",
            " 16  DeviceProtection_Yes                     2392 non-null   uint8  \n",
            " 17  TechSupport_No                           2392 non-null   uint8  \n",
            " 18  TechSupport_No internet service          2392 non-null   uint8  \n",
            " 19  TechSupport_Yes                          2392 non-null   uint8  \n",
            " 20  StreamingTV_No                           2392 non-null   uint8  \n",
            " 21  StreamingTV_No internet service          2392 non-null   uint8  \n",
            " 22  StreamingTV_Yes                          2392 non-null   uint8  \n",
            " 23  StreamingMovies_No                       2392 non-null   uint8  \n",
            " 24  StreamingMovies_No internet service      2392 non-null   uint8  \n",
            " 25  StreamingMovies_Yes                      2392 non-null   uint8  \n",
            " 26  Contract_Month-to-month                  2392 non-null   uint8  \n",
            " 27  Contract_One year                        2392 non-null   uint8  \n",
            " 28  Contract_Two year                        2392 non-null   uint8  \n",
            " 29  MultipleLines_No                         2392 non-null   uint8  \n",
            " 30  MultipleLines_No phone service           2392 non-null   uint8  \n",
            " 31  MultipleLines_Yes                        2392 non-null   uint8  \n",
            " 32  InternetService_DSL                      2392 non-null   uint8  \n",
            " 33  InternetService_Fiber optic              2392 non-null   uint8  \n",
            " 34  InternetService_No                       2392 non-null   uint8  \n",
            " 35  PaymentMethod_Bank transfer (automatic)  2392 non-null   uint8  \n",
            " 36  PaymentMethod_Credit card (automatic)    2392 non-null   uint8  \n",
            " 37  PaymentMethod_Electronic check           2392 non-null   uint8  \n",
            " 38  PaymentMethod_Mailed check               2392 non-null   uint8  \n",
            "dtypes: float64(1), int64(7), uint8(31)\n",
            "memory usage: 222.0 KB\n"
          ],
          "name": "stdout"
        }
      ]
    },
    {
      "cell_type": "markdown",
      "metadata": {
        "id": "vh9oEcjZa9_a"
      },
      "source": [
        "Agora temos um conjunto totalmente numérico, mas em contrapartida temos 39 colunas, 23 colunas a mais que as 16 inicial."
      ]
    },
    {
      "cell_type": "code",
      "metadata": {
        "colab": {
          "base_uri": "https://localhost:8080/"
        },
        "id": "jf-UqX_DCe_0",
        "outputId": "5d30ac24-bb1c-4730-ca89-a80887401b5a"
      },
      "source": [
        "data_treino_norm_dumi.shape"
      ],
      "execution_count": null,
      "outputs": [
        {
          "output_type": "execute_result",
          "data": {
            "text/plain": [
              "(2392, 39)"
            ]
          },
          "metadata": {
            "tags": []
          },
          "execution_count": 18
        }
      ]
    },
    {
      "cell_type": "markdown",
      "metadata": {
        "id": "NZJ4FgyzcEwZ"
      },
      "source": [
        "###3.3.3 Abordagem mista\n",
        "Por fim, faremos uma abordagem mista das técnicas, transformando algumas colunas em numéricas e criaremos algumas novas colunas. \n",
        "\n",
        "Além disso, ao invés de criar números arbitrários para as categorias, irei atribuir \"pesos\" de acordo com o número de ocorrências no conjunto de dados total. Isto é, farei a contagem para cada observação e atribuirei esse número aquela categoria.\n",
        "\n",
        "Para a coluna _TechSupport_, ao invés de atribuir 1 ,2 ou 3 de acordo com a categoria de No, Yes e No internet Service aparece, irei contar quantas vezes o estado No aparece, por exemplo, e atribuirei esse número de observações a ele."
      ]
    },
    {
      "cell_type": "code",
      "metadata": {
        "colab": {
          "base_uri": "https://localhost:8080/",
          "height": 258
        },
        "id": "RzgVU6IXChtX",
        "outputId": "84b42992-5602-454f-f09a-975f23bf6029"
      },
      "source": [
        "data_treino_norm_mista = data_treino_norm.copy()\n",
        "\n",
        "#Atribuindo \"Pesos\" a variáveis categóricas antes de numerificar\n",
        "#faz a contagens de observações em cada coluna\n",
        "data_treino_InternetService = data_treino_norm_mista['InternetService'].value_counts().to_dict()\n",
        "data_treino_Contract = data_treino_norm_mista['Contract'].value_counts().to_dict()\n",
        "data_treino_PaymentMethod = data_treino_norm_mista['PaymentMethod'].value_counts().to_dict()\n",
        "#Atribui o número de observações a respectiva categoria\n",
        "data_treino_norm_mista['InternetService']=data_treino_norm_mista['InternetService'].map(data_treino_InternetService)\n",
        "data_treino_norm_mista['Contract']=data_treino_norm_mista['Contract'].map(data_treino_Contract)\n",
        "data_treino_norm_mista['PaymentMethod']=data_treino_norm_mista['PaymentMethod'].map(data_treino_PaymentMethod)\n",
        "\n",
        "\n",
        "#As colunas Contact e poutcome serão dumificadas\n",
        "data_treino_norm_mista = pd.get_dummies(data_treino_norm_mista, columns = ['OnlineSecurity', 'OnlineBackup', 'DeviceProtection', 'TechSupport','StreamingTV', 'StreamingMovies','MultipleLines'])\n",
        "data_treino_norm_mista.head()"
      ],
      "execution_count": null,
      "outputs": [
        {
          "output_type": "execute_result",
          "data": {
            "text/html": [
              "<div>\n",
              "<style scoped>\n",
              "    .dataframe tbody tr th:only-of-type {\n",
              "        vertical-align: middle;\n",
              "    }\n",
              "\n",
              "    .dataframe tbody tr th {\n",
              "        vertical-align: top;\n",
              "    }\n",
              "\n",
              "    .dataframe thead th {\n",
              "        text-align: right;\n",
              "    }\n",
              "</style>\n",
              "<table border=\"1\" class=\"dataframe\">\n",
              "  <thead>\n",
              "    <tr style=\"text-align: right;\">\n",
              "      <th></th>\n",
              "      <th>gender</th>\n",
              "      <th>SeniorCitizen</th>\n",
              "      <th>Partner</th>\n",
              "      <th>Dependents</th>\n",
              "      <th>PhoneService</th>\n",
              "      <th>InternetService</th>\n",
              "      <th>Contract</th>\n",
              "      <th>PaperlessBilling</th>\n",
              "      <th>PaymentMethod</th>\n",
              "      <th>Cliente</th>\n",
              "      <th>Tenure</th>\n",
              "      <th>OnlineSecurity_No</th>\n",
              "      <th>OnlineSecurity_No internet service</th>\n",
              "      <th>OnlineSecurity_Yes</th>\n",
              "      <th>OnlineBackup_No</th>\n",
              "      <th>OnlineBackup_No internet service</th>\n",
              "      <th>OnlineBackup_Yes</th>\n",
              "      <th>DeviceProtection_No</th>\n",
              "      <th>DeviceProtection_No internet service</th>\n",
              "      <th>DeviceProtection_Yes</th>\n",
              "      <th>TechSupport_No</th>\n",
              "      <th>TechSupport_No internet service</th>\n",
              "      <th>TechSupport_Yes</th>\n",
              "      <th>StreamingTV_No</th>\n",
              "      <th>StreamingTV_No internet service</th>\n",
              "      <th>StreamingTV_Yes</th>\n",
              "      <th>StreamingMovies_No</th>\n",
              "      <th>StreamingMovies_No internet service</th>\n",
              "      <th>StreamingMovies_Yes</th>\n",
              "      <th>MultipleLines_No</th>\n",
              "      <th>MultipleLines_No phone service</th>\n",
              "      <th>MultipleLines_Yes</th>\n",
              "    </tr>\n",
              "  </thead>\n",
              "  <tbody>\n",
              "    <tr>\n",
              "      <th>0</th>\n",
              "      <td>0</td>\n",
              "      <td>0</td>\n",
              "      <td>0</td>\n",
              "      <td>0</td>\n",
              "      <td>1</td>\n",
              "      <td>490</td>\n",
              "      <td>580</td>\n",
              "      <td>0</td>\n",
              "      <td>550</td>\n",
              "      <td>0</td>\n",
              "      <td>-0.545398</td>\n",
              "      <td>0</td>\n",
              "      <td>1</td>\n",
              "      <td>0</td>\n",
              "      <td>0</td>\n",
              "      <td>1</td>\n",
              "      <td>0</td>\n",
              "      <td>0</td>\n",
              "      <td>1</td>\n",
              "      <td>0</td>\n",
              "      <td>0</td>\n",
              "      <td>1</td>\n",
              "      <td>0</td>\n",
              "      <td>0</td>\n",
              "      <td>1</td>\n",
              "      <td>0</td>\n",
              "      <td>0</td>\n",
              "      <td>1</td>\n",
              "      <td>0</td>\n",
              "      <td>1</td>\n",
              "      <td>0</td>\n",
              "      <td>0</td>\n",
              "    </tr>\n",
              "    <tr>\n",
              "      <th>1</th>\n",
              "      <td>0</td>\n",
              "      <td>0</td>\n",
              "      <td>1</td>\n",
              "      <td>1</td>\n",
              "      <td>1</td>\n",
              "      <td>858</td>\n",
              "      <td>529</td>\n",
              "      <td>0</td>\n",
              "      <td>550</td>\n",
              "      <td>1</td>\n",
              "      <td>1.069760</td>\n",
              "      <td>0</td>\n",
              "      <td>0</td>\n",
              "      <td>1</td>\n",
              "      <td>0</td>\n",
              "      <td>0</td>\n",
              "      <td>1</td>\n",
              "      <td>1</td>\n",
              "      <td>0</td>\n",
              "      <td>0</td>\n",
              "      <td>0</td>\n",
              "      <td>0</td>\n",
              "      <td>1</td>\n",
              "      <td>1</td>\n",
              "      <td>0</td>\n",
              "      <td>0</td>\n",
              "      <td>1</td>\n",
              "      <td>0</td>\n",
              "      <td>0</td>\n",
              "      <td>0</td>\n",
              "      <td>0</td>\n",
              "      <td>1</td>\n",
              "    </tr>\n",
              "    <tr>\n",
              "      <th>2</th>\n",
              "      <td>0</td>\n",
              "      <td>0</td>\n",
              "      <td>1</td>\n",
              "      <td>1</td>\n",
              "      <td>0</td>\n",
              "      <td>858</td>\n",
              "      <td>580</td>\n",
              "      <td>0</td>\n",
              "      <td>517</td>\n",
              "      <td>1</td>\n",
              "      <td>1.442489</td>\n",
              "      <td>1</td>\n",
              "      <td>0</td>\n",
              "      <td>0</td>\n",
              "      <td>0</td>\n",
              "      <td>0</td>\n",
              "      <td>1</td>\n",
              "      <td>0</td>\n",
              "      <td>0</td>\n",
              "      <td>1</td>\n",
              "      <td>0</td>\n",
              "      <td>0</td>\n",
              "      <td>1</td>\n",
              "      <td>0</td>\n",
              "      <td>0</td>\n",
              "      <td>1</td>\n",
              "      <td>0</td>\n",
              "      <td>0</td>\n",
              "      <td>1</td>\n",
              "      <td>0</td>\n",
              "      <td>1</td>\n",
              "      <td>0</td>\n",
              "    </tr>\n",
              "    <tr>\n",
              "      <th>3</th>\n",
              "      <td>0</td>\n",
              "      <td>0</td>\n",
              "      <td>0</td>\n",
              "      <td>1</td>\n",
              "      <td>1</td>\n",
              "      <td>858</td>\n",
              "      <td>1283</td>\n",
              "      <td>0</td>\n",
              "      <td>550</td>\n",
              "      <td>1</td>\n",
              "      <td>0.075817</td>\n",
              "      <td>1</td>\n",
              "      <td>0</td>\n",
              "      <td>0</td>\n",
              "      <td>1</td>\n",
              "      <td>0</td>\n",
              "      <td>0</td>\n",
              "      <td>1</td>\n",
              "      <td>0</td>\n",
              "      <td>0</td>\n",
              "      <td>1</td>\n",
              "      <td>0</td>\n",
              "      <td>0</td>\n",
              "      <td>1</td>\n",
              "      <td>0</td>\n",
              "      <td>0</td>\n",
              "      <td>1</td>\n",
              "      <td>0</td>\n",
              "      <td>0</td>\n",
              "      <td>0</td>\n",
              "      <td>0</td>\n",
              "      <td>1</td>\n",
              "    </tr>\n",
              "    <tr>\n",
              "      <th>4</th>\n",
              "      <td>1</td>\n",
              "      <td>1</td>\n",
              "      <td>0</td>\n",
              "      <td>0</td>\n",
              "      <td>1</td>\n",
              "      <td>858</td>\n",
              "      <td>1283</td>\n",
              "      <td>0</td>\n",
              "      <td>790</td>\n",
              "      <td>0</td>\n",
              "      <td>-1.332270</td>\n",
              "      <td>1</td>\n",
              "      <td>0</td>\n",
              "      <td>0</td>\n",
              "      <td>1</td>\n",
              "      <td>0</td>\n",
              "      <td>0</td>\n",
              "      <td>1</td>\n",
              "      <td>0</td>\n",
              "      <td>0</td>\n",
              "      <td>1</td>\n",
              "      <td>0</td>\n",
              "      <td>0</td>\n",
              "      <td>1</td>\n",
              "      <td>0</td>\n",
              "      <td>0</td>\n",
              "      <td>1</td>\n",
              "      <td>0</td>\n",
              "      <td>0</td>\n",
              "      <td>1</td>\n",
              "      <td>0</td>\n",
              "      <td>0</td>\n",
              "    </tr>\n",
              "  </tbody>\n",
              "</table>\n",
              "</div>"
            ],
            "text/plain": [
              "   gender  SeniorCitizen  ...  MultipleLines_No phone service  MultipleLines_Yes\n",
              "0       0              0  ...                               0                  0\n",
              "1       0              0  ...                               0                  1\n",
              "2       0              0  ...                               1                  0\n",
              "3       0              0  ...                               0                  1\n",
              "4       1              1  ...                               0                  0\n",
              "\n",
              "[5 rows x 32 columns]"
            ]
          },
          "metadata": {
            "tags": []
          },
          "execution_count": 19
        }
      ]
    },
    {
      "cell_type": "markdown",
      "metadata": {
        "id": "i9NcM6KAdzqO"
      },
      "source": [
        "Devido a atribuição de pesos, estamos com uma amplitude muito alta em algumas colunas, por isso irei aplicar uma nova normalização apenas para essas colunas."
      ]
    },
    {
      "cell_type": "code",
      "metadata": {
        "id": "Tjg1noYYJOGH"
      },
      "source": [
        "#normalizando os dados novos\n",
        "sc2 = StandardScaler()\n",
        "\n",
        "aux2 = sc2.fit_transform(data_treino_norm_mista[['InternetService','Contract', 'PaymentMethod']])#faz o ajuste, calculo da média e do desvio padrão. (- a mpedia) / desvio padrão\n",
        "aux3 = pd.DataFrame(aux2, columns = ['InternetServiço', 'Contrato', 'Pagamento'])#transforma num data frame o numpy array e adicionado ao data frame\n",
        "data_treino_norm_mista = pd.concat([data_treino_norm_mista, aux3], axis = 1)#concatena com o o conjunto de dados\n",
        "data_treino_norm_mista.drop(['InternetService','Contract', 'PaymentMethod'], axis = 1, inplace = True) #dropa as colunas antigas do conjunto de dados"
      ],
      "execution_count": null,
      "outputs": []
    },
    {
      "cell_type": "markdown",
      "metadata": {
        "id": "sM0cdXRQd_gT"
      },
      "source": [
        "#4 Modelagem\n",
        "\n",
        "Com o pré-processamento terminado, vamos separar os 4 conjunto de dados para inserção nos modelos. \n",
        "\n",
        "Retomando o que fizemos até aqui:\n",
        "\n",
        "\n",
        "*   1 - Fizemos a identificação das variáveis e as relações com o Cliente;\n",
        "*   2 - Utilizamos uma abordagem para lidar com as variáveis categóricas, uma transformando as categorias em números e outra criando para cada categoria uma nova coluna.\n"
      ]
    },
    {
      "cell_type": "code",
      "metadata": {
        "colab": {
          "base_uri": "https://localhost:8080/"
        },
        "id": "VQbI08CxKe5L",
        "outputId": "a6612ce7-99f6-48c3-8d8a-90289da4a151"
      },
      "source": [
        "\n",
        "#Colunas Numerificadas\n",
        "Xtreino_1 = data_treino_norm_num.drop(['Cliente'], axis=1)\n",
        "Ytreino_1 = data_treino_norm_num['Cliente'].to_list()\n",
        "print(Xtreino_1.shape) \n",
        "#Colunas dummificadas\n",
        "Xtreino_2 = data_treino_norm_dumi.drop(['Cliente'], axis=1)\n",
        "Ytreino_2 = data_treino_norm_dumi['Cliente'].to_list()\n",
        "print(Xtreino_2.shape)\n",
        "#Abordagem Mista com Pesos\n",
        "Xtreino_3 = data_treino_norm_mista.drop(['Cliente'], axis=1)\n",
        "Ytreino_3 = data_treino_norm_mista['Cliente'].to_list()\n",
        "print(Xtreino_3.shape)"
      ],
      "execution_count": null,
      "outputs": [
        {
          "output_type": "stream",
          "text": [
            "(2392, 17)\n",
            "(2392, 38)\n",
            "(2392, 31)\n"
          ],
          "name": "stdout"
        }
      ]
    },
    {
      "cell_type": "markdown",
      "metadata": {
        "id": "CzvUrZrxfGdt"
      },
      "source": [
        "##4.1 Método\n",
        "\n",
        "Como método de validação usarei 10-Folds (K-Fold) Estratificado repetindo 10 vezes o método. Isso tende a evitar um overfitting e trazer um modelo mais estável.\n",
        "\n",
        "O K-Fold separa o conjunto de dados K partes iguais, utilizando K-1 delas para treinamento e a parte K para validar (testar) o modelo. Repetindo o processo até que todas as K partições tenham sido utilizadas tanto para treinamento quanto para teste. "
      ]
    },
    {
      "cell_type": "code",
      "metadata": {
        "id": "olpMbGKuLqon"
      },
      "source": [
        "validacao = RepeatedStratifiedKFold(n_splits = 10, n_repeats = 10)"
      ],
      "execution_count": null,
      "outputs": []
    },
    {
      "cell_type": "markdown",
      "metadata": {
        "id": "8-cxRQ0cgEy7"
      },
      "source": [
        "##4.2 Métrica\n",
        "Como parte da competição utilizaremos o F1-Score, que é uma média harmônica entre a precisão e a sensibilidade. Quando a Precisão estiver baixa, por mais que o Recall esteja alto, o F1-score dara um resultado baixo, e vice-versa. Isso possibilita que olhemos para uma única métrica ao invés de duas."
      ]
    },
    {
      "cell_type": "markdown",
      "metadata": {
        "id": "R3Ry6364gMSH"
      },
      "source": [
        "Aqui temos uma matriz de confusão, que indica os erros e os acertos do nosso modelo, comparando com o resultado esperado.\n",
        "\n",
        "---\n",
        "<img src=\"https://www.researchgate.net/profile/Fabio-Araujo-Da-Silva/publication/323369673/figure/fig5/AS:597319787479040@1519423543307/Figura-13-Exemplo-de-uma-matriz-de-confusao.png\">\n",
        "\n",
        "\n",
        "---\n",
        "**Verdadeiro** é a predição correta do modelo. **Falso** é a precição errada do modelo.\n",
        "\n",
        "$ Sendo:$\n",
        "\n",
        "<img src=\"https://miro.medium.com/max/2160/1*t1vf-ofJrJqtmam0KSn3EQ.png\">"
      ]
    },
    {
      "cell_type": "markdown",
      "metadata": {
        "id": "0MgJzqDZgi1_"
      },
      "source": [
        "##4.3 Melhor pré-processamento\n",
        "\n",
        "Devido ao alto custo computacional de testar vários algoritmos, vou selecionar apenas o algoritmo que obteve o melhor desempenho nos testes anteriores realizados durante a competição."
      ]
    },
    {
      "cell_type": "code",
      "metadata": {
        "colab": {
          "base_uri": "https://localhost:8080/"
        },
        "id": "LeN2MEUWLunh",
        "outputId": "e9635b4b-90ca-498a-f28b-0167360a3f68"
      },
      "source": [
        "modelo_Grad = GradientBoostingClassifier() #Modelo\n",
        "resultados = pd.DataFrame() #dataframe vazio para armazenar os resultados\n",
        "\n",
        "#Abordagem Numerica\n",
        "mol_Grad = cross_validate(modelo_Grad, Xtreino_1, Ytreino_1, cv = validacao, scoring = ['accuracy', 'recall', 'f1', 'precision'],verbose = 1, n_jobs = -1)\n",
        "dic = {'F1-Score': [mol_Grad['test_f1'].mean()], 'Precisão': [mol_Grad['test_precision'].mean()], 'Recall': [mol_Grad['test_recall'].mean()]}\n",
        "resultados = pd.concat([resultados, pd.DataFrame(dic, index = ['Numerica'])])\n",
        "\n",
        "#Abordagem Dummy\n",
        "mol_Grad = cross_validate(modelo_Grad, Xtreino_2, Ytreino_2, cv = validacao, scoring = ['accuracy', 'recall', 'f1', 'precision'],verbose = 1, n_jobs = -1)\n",
        "dic = {'F1-Score': [mol_Grad['test_f1'].mean()], 'Precisão': [mol_Grad['test_precision'].mean()], 'Recall': [mol_Grad['test_recall'].mean()]}\n",
        "resultados = pd.concat([resultados, pd.DataFrame(dic, index = ['Dummy'])])\n",
        "\n",
        "#Abordagem Mista\n",
        "mol_Grad = cross_validate(modelo_Grad, Xtreino_3, Ytreino_3, cv = validacao, scoring = ['accuracy', 'recall', 'f1', 'precision'],verbose = 1, n_jobs = -1)\n",
        "dic = {'F1-Score': [mol_Grad['test_f1'].mean()], 'Precisão': [mol_Grad['test_precision'].mean()], 'Recall': [mol_Grad['test_recall'].mean()]}\n",
        "resultados = pd.concat([resultados, pd.DataFrame(dic, index = ['Mista'])])\n",
        "\n",
        "resultados = resultados.sort_values('F1-Score', ascending=False)"
      ],
      "execution_count": null,
      "outputs": [
        {
          "output_type": "stream",
          "text": [
            "[Parallel(n_jobs=-1)]: Using backend LokyBackend with 2 concurrent workers.\n",
            "[Parallel(n_jobs=-1)]: Done  46 tasks      | elapsed:   10.6s\n",
            "[Parallel(n_jobs=-1)]: Done 100 out of 100 | elapsed:   21.6s finished\n",
            "[Parallel(n_jobs=-1)]: Using backend LokyBackend with 2 concurrent workers.\n",
            "[Parallel(n_jobs=-1)]: Done  46 tasks      | elapsed:   12.4s\n",
            "[Parallel(n_jobs=-1)]: Done 100 out of 100 | elapsed:   26.9s finished\n",
            "[Parallel(n_jobs=-1)]: Using backend LokyBackend with 2 concurrent workers.\n",
            "[Parallel(n_jobs=-1)]: Done  46 tasks      | elapsed:   11.6s\n",
            "[Parallel(n_jobs=-1)]: Done 100 out of 100 | elapsed:   25.1s finished\n"
          ],
          "name": "stderr"
        }
      ]
    },
    {
      "cell_type": "code",
      "metadata": {
        "colab": {
          "base_uri": "https://localhost:8080/",
          "height": 142
        },
        "id": "YUUIY9rBMfTF",
        "outputId": "3901d162-73dc-4d3e-a7cc-38a83f44d15e"
      },
      "source": [
        "resultados.head(40)#Exibindo os resultados"
      ],
      "execution_count": null,
      "outputs": [
        {
          "output_type": "execute_result",
          "data": {
            "text/html": [
              "<div>\n",
              "<style scoped>\n",
              "    .dataframe tbody tr th:only-of-type {\n",
              "        vertical-align: middle;\n",
              "    }\n",
              "\n",
              "    .dataframe tbody tr th {\n",
              "        vertical-align: top;\n",
              "    }\n",
              "\n",
              "    .dataframe thead th {\n",
              "        text-align: right;\n",
              "    }\n",
              "</style>\n",
              "<table border=\"1\" class=\"dataframe\">\n",
              "  <thead>\n",
              "    <tr style=\"text-align: right;\">\n",
              "      <th></th>\n",
              "      <th>F1-Score</th>\n",
              "      <th>Precisão</th>\n",
              "      <th>Recall</th>\n",
              "    </tr>\n",
              "  </thead>\n",
              "  <tbody>\n",
              "    <tr>\n",
              "      <th>Dummy</th>\n",
              "      <td>0.983027</td>\n",
              "      <td>0.982523</td>\n",
              "      <td>0.983691</td>\n",
              "    </tr>\n",
              "    <tr>\n",
              "      <th>Mista</th>\n",
              "      <td>0.982532</td>\n",
              "      <td>0.982149</td>\n",
              "      <td>0.983089</td>\n",
              "    </tr>\n",
              "    <tr>\n",
              "      <th>Numerica</th>\n",
              "      <td>0.981247</td>\n",
              "      <td>0.982302</td>\n",
              "      <td>0.980339</td>\n",
              "    </tr>\n",
              "  </tbody>\n",
              "</table>\n",
              "</div>"
            ],
            "text/plain": [
              "          F1-Score  Precisão    Recall\n",
              "Dummy     0.983027  0.982523  0.983691\n",
              "Mista     0.982532  0.982149  0.983089\n",
              "Numerica  0.981247  0.982302  0.980339"
            ]
          },
          "metadata": {
            "tags": []
          },
          "execution_count": 23
        }
      ]
    },
    {
      "cell_type": "markdown",
      "metadata": {
        "id": "uLnFAfFVhS8-"
      },
      "source": [
        "O pré-processamento Dummy teve um desempenho ligeiramente melhor do que a Mista das colunas. Já a Numerificação mostrou o pior resultado com o algoritmo testado.\n",
        "\n",
        "Aqui vale uma ressalva, que dependendo do algoritmo base testado, outro conjunto poderia ter tido um resultado melhor. Entretanto, como buscamos os 3 melhores modelos para fazer uma combinação, os melhores resultados alcançados foram alcançados com os conjuntos Dummy e misto na maioria dos casos."
      ]
    },
    {
      "cell_type": "code",
      "metadata": {
        "id": "34Gxl7EGNuKG"
      },
      "source": [
        "#Nomes dos classificadores considerados\n",
        "nome = [\n",
        "    '5-Vizinhos Mais Próximos',\n",
        "    '45-Vizinhos Mais Próximos',\n",
        "    'Default-Vizinhos Mais Próximos',\n",
        "    'Árvore de Decisão',\n",
        "    'Regressão Logística', \n",
        "    'Análise Discriminante Linear',\n",
        "    'Análise Discriminante Quadrática',\n",
        "    'Bagging de Árvores',\n",
        "    'Bagging de Regressão Logística',\n",
        "    'Floresta Aleatória',\n",
        "    'AdaBoost',\n",
        "    'Extra Árvores',\n",
        "    'Classificador Passivo Agressivo',\n",
        "    'Gradient Boosting',\n",
        "    'Gaussian Naive Bayes', \n",
        "    'Support Vector Machine (Linear)',\n",
        "    'Support Vector Machine (RBF)',\n",
        "    'Support Vector Machine (Poli.G3)',\n",
        "    'Support Vector Machine (Sigmoid)',\n",
        "    'Rede Neural Perceptron',\n",
        "    'Rede Neural MLP (10)',\n",
        "    'Rede Neural MLP (10,10)',\n",
        "    'Rede Neural MLP (100)']\n",
        "\n",
        "#Classificadores considerados\n",
        "classifiers = [\n",
        "    KNeighborsClassifier(n_neighbors = 5),\n",
        "    KNeighborsClassifier(n_neighbors = 45),\n",
        "    KNeighborsClassifier(),\n",
        "    DecisionTreeClassifier(),\n",
        "    LogisticRegression(), \n",
        "    LinearDiscriminantAnalysis(),\n",
        "    QuadraticDiscriminantAnalysis(),\n",
        "    BaggingClassifier(),\n",
        "    BaggingClassifier(base_estimator = LogisticRegression()),\n",
        "    RandomForestClassifier(),\n",
        "    AdaBoostClassifier(),\n",
        "    ExtraTreesClassifier(),\n",
        "    PassiveAggressiveClassifier(),\n",
        "    GradientBoostingClassifier(),\n",
        "    GaussianNB(), \n",
        "    SVC(kernel = 'linear'),\n",
        "    SVC(kernel = 'rbf'),\n",
        "    SVC(kernel = 'poly'),\n",
        "    SVC(kernel = 'sigmoid'),\n",
        "    Perceptron(),\n",
        "    MLPClassifier(hidden_layer_sizes=(10), max_iter = 1000),\n",
        "    MLPClassifier(hidden_layer_sizes=(10,10), max_iter = 1000),\n",
        "    MLPClassifier(hidden_layer_sizes=(100), max_iter = 1000)]"
      ],
      "execution_count": null,
      "outputs": []
    },
    {
      "cell_type": "markdown",
      "metadata": {
        "id": "P61I3hjOk1Lt"
      },
      "source": [
        "Definido os modelos, vamos agora colocar em um laço de repetição para percorrer todos com o conjunto de dados escolhido anteriormente.\n",
        "\n",
        "Usaremos o mesmo método de validação K-Fold para mesma métrica F1."
      ]
    },
    {
      "cell_type": "code",
      "metadata": {
        "colab": {
          "base_uri": "https://localhost:8080/"
        },
        "id": "tiPR1ENwOHpL",
        "outputId": "7dea484e-136f-4d95-b697-2a1205d683ee"
      },
      "source": [
        "validacao = RepeatedStratifiedKFold(n_splits = 10, n_repeats = 10)#Validação KFold Estratificado\n",
        "resultados = pd.DataFrame() #dataframe vazio para guardar os resultados\n",
        "i = 1\n",
        "for i, modelo in enumerate(classifiers):\n",
        "    print('Ajustando o modelo', nome[i])\n",
        "    mol_testes = cross_validate(modelo, Xtreino_2, Ytreino_2, cv = validacao, \n",
        "                                scoring = ['accuracy','recall', 'f1', 'precision'],\n",
        "                                verbose = 2, n_jobs = -1)\n",
        "    #atribui as métricas para o dataframe para comparação\n",
        "    acc = mol_testes['test_accuracy'].mean() #vamos guardar também a accuracy para efeitos de comparação\n",
        "    f1s = mol_testes['test_f1'].mean()\n",
        "    pre = mol_testes['test_precision'].mean()\n",
        "    rec = mol_testes['test_recall'].mean()\n",
        "    #Atribuindo os resultado ao dataframe resultados\n",
        "    dic = {'F1-Score': [f1s], 'Precisão': [pre], 'Recall': [rec], 'Acurácia': [acc]}\n",
        "    aux = pd.DataFrame(dic, index = [nome[i]])\n",
        "    resultados = pd.concat([resultados, aux])"
      ],
      "execution_count": null,
      "outputs": [
        {
          "output_type": "stream",
          "text": [
            "Ajustando o modelo 5-Vizinhos Mais Próximos\n"
          ],
          "name": "stdout"
        },
        {
          "output_type": "stream",
          "text": [
            "[Parallel(n_jobs=-1)]: Using backend LokyBackend with 2 concurrent workers.\n",
            "[Parallel(n_jobs=-1)]: Done  70 tasks      | elapsed:    3.5s\n",
            "[Parallel(n_jobs=-1)]: Done 100 out of 100 | elapsed:    4.9s finished\n",
            "[Parallel(n_jobs=-1)]: Using backend LokyBackend with 2 concurrent workers.\n"
          ],
          "name": "stderr"
        },
        {
          "output_type": "stream",
          "text": [
            "Ajustando o modelo 45-Vizinhos Mais Próximos\n"
          ],
          "name": "stdout"
        },
        {
          "output_type": "stream",
          "text": [
            "[Parallel(n_jobs=-1)]: Done  70 tasks      | elapsed:    4.1s\n",
            "[Parallel(n_jobs=-1)]: Done 100 out of 100 | elapsed:    5.7s finished\n",
            "[Parallel(n_jobs=-1)]: Using backend LokyBackend with 2 concurrent workers.\n"
          ],
          "name": "stderr"
        },
        {
          "output_type": "stream",
          "text": [
            "Ajustando o modelo Default-Vizinhos Mais Próximos\n"
          ],
          "name": "stdout"
        },
        {
          "output_type": "stream",
          "text": [
            "[Parallel(n_jobs=-1)]: Done  70 tasks      | elapsed:    3.5s\n",
            "[Parallel(n_jobs=-1)]: Done 100 out of 100 | elapsed:    4.9s finished\n",
            "[Parallel(n_jobs=-1)]: Using backend LokyBackend with 2 concurrent workers.\n"
          ],
          "name": "stderr"
        },
        {
          "output_type": "stream",
          "text": [
            "Ajustando o modelo Árvore de Decisão\n"
          ],
          "name": "stdout"
        },
        {
          "output_type": "stream",
          "text": [
            "[Parallel(n_jobs=-1)]: Done 100 out of 100 | elapsed:    1.2s finished\n",
            "[Parallel(n_jobs=-1)]: Using backend LokyBackend with 2 concurrent workers.\n"
          ],
          "name": "stderr"
        },
        {
          "output_type": "stream",
          "text": [
            "Ajustando o modelo Regressão Logística\n"
          ],
          "name": "stdout"
        },
        {
          "output_type": "stream",
          "text": [
            "[Parallel(n_jobs=-1)]: Done 100 out of 100 | elapsed:    2.6s finished\n",
            "[Parallel(n_jobs=-1)]: Using backend LokyBackend with 2 concurrent workers.\n"
          ],
          "name": "stderr"
        },
        {
          "output_type": "stream",
          "text": [
            "Ajustando o modelo Análise Discriminante Linear\n"
          ],
          "name": "stdout"
        },
        {
          "output_type": "stream",
          "text": [
            "[Parallel(n_jobs=-1)]: Done 100 out of 100 | elapsed:    2.0s finished\n",
            "[Parallel(n_jobs=-1)]: Using backend LokyBackend with 2 concurrent workers.\n"
          ],
          "name": "stderr"
        },
        {
          "output_type": "stream",
          "text": [
            "Ajustando o modelo Análise Discriminante Quadrática\n"
          ],
          "name": "stdout"
        },
        {
          "output_type": "stream",
          "text": [
            "[Parallel(n_jobs=-1)]: Done 100 out of 100 | elapsed:    1.3s finished\n",
            "[Parallel(n_jobs=-1)]: Using backend LokyBackend with 2 concurrent workers.\n"
          ],
          "name": "stderr"
        },
        {
          "output_type": "stream",
          "text": [
            "Ajustando o modelo Bagging de Árvores\n"
          ],
          "name": "stdout"
        },
        {
          "output_type": "stream",
          "text": [
            "[Parallel(n_jobs=-1)]: Done  70 tasks      | elapsed:    3.2s\n",
            "[Parallel(n_jobs=-1)]: Done 100 out of 100 | elapsed:    4.4s finished\n",
            "[Parallel(n_jobs=-1)]: Using backend LokyBackend with 2 concurrent workers.\n"
          ],
          "name": "stderr"
        },
        {
          "output_type": "stream",
          "text": [
            "Ajustando o modelo Bagging de Regressão Logística\n"
          ],
          "name": "stdout"
        },
        {
          "output_type": "stream",
          "text": [
            "[Parallel(n_jobs=-1)]: Done  37 tasks      | elapsed:    8.0s\n",
            "[Parallel(n_jobs=-1)]: Done 100 out of 100 | elapsed:   21.0s finished\n",
            "[Parallel(n_jobs=-1)]: Using backend LokyBackend with 2 concurrent workers.\n"
          ],
          "name": "stderr"
        },
        {
          "output_type": "stream",
          "text": [
            "Ajustando o modelo Floresta Aleatória\n"
          ],
          "name": "stdout"
        },
        {
          "output_type": "stream",
          "text": [
            "[Parallel(n_jobs=-1)]: Done  37 tasks      | elapsed:    7.9s\n",
            "[Parallel(n_jobs=-1)]: Done 100 out of 100 | elapsed:   20.9s finished\n",
            "[Parallel(n_jobs=-1)]: Using backend LokyBackend with 2 concurrent workers.\n"
          ],
          "name": "stderr"
        },
        {
          "output_type": "stream",
          "text": [
            "Ajustando o modelo AdaBoost\n"
          ],
          "name": "stdout"
        },
        {
          "output_type": "stream",
          "text": [
            "[Parallel(n_jobs=-1)]: Done  37 tasks      | elapsed:    5.2s\n",
            "[Parallel(n_jobs=-1)]: Done 100 out of 100 | elapsed:   13.7s finished\n",
            "[Parallel(n_jobs=-1)]: Using backend LokyBackend with 2 concurrent workers.\n"
          ],
          "name": "stderr"
        },
        {
          "output_type": "stream",
          "text": [
            "Ajustando o modelo Extra Árvores\n"
          ],
          "name": "stdout"
        },
        {
          "output_type": "stream",
          "text": [
            "[Parallel(n_jobs=-1)]: Done  37 tasks      | elapsed:    7.6s\n",
            "[Parallel(n_jobs=-1)]: Done 100 out of 100 | elapsed:   20.3s finished\n",
            "[Parallel(n_jobs=-1)]: Using backend LokyBackend with 2 concurrent workers.\n"
          ],
          "name": "stderr"
        },
        {
          "output_type": "stream",
          "text": [
            "Ajustando o modelo Classificador Passivo Agressivo\n"
          ],
          "name": "stdout"
        },
        {
          "output_type": "stream",
          "text": [
            "[Parallel(n_jobs=-1)]: Done 100 out of 100 | elapsed:    1.3s finished\n",
            "[Parallel(n_jobs=-1)]: Using backend LokyBackend with 2 concurrent workers.\n"
          ],
          "name": "stderr"
        },
        {
          "output_type": "stream",
          "text": [
            "Ajustando o modelo Gradient Boosting\n"
          ],
          "name": "stdout"
        },
        {
          "output_type": "stream",
          "text": [
            "[Parallel(n_jobs=-1)]: Done  37 tasks      | elapsed:   10.3s\n",
            "[Parallel(n_jobs=-1)]: Done 100 out of 100 | elapsed:   27.2s finished\n",
            "[Parallel(n_jobs=-1)]: Using backend LokyBackend with 2 concurrent workers.\n"
          ],
          "name": "stderr"
        },
        {
          "output_type": "stream",
          "text": [
            "Ajustando o modelo Gaussian Naive Bayes\n"
          ],
          "name": "stdout"
        },
        {
          "output_type": "stream",
          "text": [
            "[Parallel(n_jobs=-1)]: Done 100 out of 100 | elapsed:    0.9s finished\n",
            "[Parallel(n_jobs=-1)]: Using backend LokyBackend with 2 concurrent workers.\n"
          ],
          "name": "stderr"
        },
        {
          "output_type": "stream",
          "text": [
            "Ajustando o modelo Support Vector Machine (Linear)\n"
          ],
          "name": "stdout"
        },
        {
          "output_type": "stream",
          "text": [
            "[Parallel(n_jobs=-1)]: Done  70 tasks      | elapsed:    3.1s\n",
            "[Parallel(n_jobs=-1)]: Done 100 out of 100 | elapsed:    4.3s finished\n",
            "[Parallel(n_jobs=-1)]: Using backend LokyBackend with 2 concurrent workers.\n"
          ],
          "name": "stderr"
        },
        {
          "output_type": "stream",
          "text": [
            "Ajustando o modelo Support Vector Machine (RBF)\n"
          ],
          "name": "stdout"
        },
        {
          "output_type": "stream",
          "text": [
            "[Parallel(n_jobs=-1)]: Done  70 tasks      | elapsed:    5.3s\n",
            "[Parallel(n_jobs=-1)]: Done 100 out of 100 | elapsed:    7.4s finished\n",
            "[Parallel(n_jobs=-1)]: Using backend LokyBackend with 2 concurrent workers.\n"
          ],
          "name": "stderr"
        },
        {
          "output_type": "stream",
          "text": [
            "Ajustando o modelo Support Vector Machine (Poli.G3)\n"
          ],
          "name": "stdout"
        },
        {
          "output_type": "stream",
          "text": [
            "[Parallel(n_jobs=-1)]: Done  70 tasks      | elapsed:    3.9s\n",
            "[Parallel(n_jobs=-1)]: Done 100 out of 100 | elapsed:    5.4s finished\n",
            "[Parallel(n_jobs=-1)]: Using backend LokyBackend with 2 concurrent workers.\n"
          ],
          "name": "stderr"
        },
        {
          "output_type": "stream",
          "text": [
            "Ajustando o modelo Support Vector Machine (Sigmoid)\n"
          ],
          "name": "stdout"
        },
        {
          "output_type": "stream",
          "text": [
            "[Parallel(n_jobs=-1)]: Done  70 tasks      | elapsed:    6.1s\n",
            "[Parallel(n_jobs=-1)]: Done 100 out of 100 | elapsed:    8.5s finished\n",
            "[Parallel(n_jobs=-1)]: Using backend LokyBackend with 2 concurrent workers.\n"
          ],
          "name": "stderr"
        },
        {
          "output_type": "stream",
          "text": [
            "Ajustando o modelo Rede Neural Perceptron\n"
          ],
          "name": "stdout"
        },
        {
          "output_type": "stream",
          "text": [
            "[Parallel(n_jobs=-1)]: Done 100 out of 100 | elapsed:    1.1s finished\n",
            "[Parallel(n_jobs=-1)]: Using backend LokyBackend with 2 concurrent workers.\n"
          ],
          "name": "stderr"
        },
        {
          "output_type": "stream",
          "text": [
            "Ajustando o modelo Rede Neural MLP (10)\n"
          ],
          "name": "stdout"
        },
        {
          "output_type": "stream",
          "text": [
            "[Parallel(n_jobs=-1)]: Done  37 tasks      | elapsed:  1.2min\n",
            "[Parallel(n_jobs=-1)]: Done 100 out of 100 | elapsed:  3.2min finished\n",
            "[Parallel(n_jobs=-1)]: Using backend LokyBackend with 2 concurrent workers.\n"
          ],
          "name": "stderr"
        },
        {
          "output_type": "stream",
          "text": [
            "Ajustando o modelo Rede Neural MLP (10,10)\n"
          ],
          "name": "stdout"
        },
        {
          "output_type": "stream",
          "text": [
            "[Parallel(n_jobs=-1)]: Done  37 tasks      | elapsed:  1.1min\n",
            "[Parallel(n_jobs=-1)]: Done 100 out of 100 | elapsed:  3.1min finished\n",
            "[Parallel(n_jobs=-1)]: Using backend LokyBackend with 2 concurrent workers.\n"
          ],
          "name": "stderr"
        },
        {
          "output_type": "stream",
          "text": [
            "Ajustando o modelo Rede Neural MLP (100)\n"
          ],
          "name": "stdout"
        },
        {
          "output_type": "stream",
          "text": [
            "[Parallel(n_jobs=-1)]: Done  37 tasks      | elapsed:  1.5min\n",
            "[Parallel(n_jobs=-1)]: Done 100 out of 100 | elapsed:  4.1min finished\n"
          ],
          "name": "stderr"
        }
      ]
    },
    {
      "cell_type": "code",
      "metadata": {
        "colab": {
          "base_uri": "https://localhost:8080/",
          "height": 762
        },
        "id": "EbGDC9BhTgCv",
        "outputId": "ced6edb9-65be-4fff-ff91-3dd421c2e52f"
      },
      "source": [
        "resultados = resultados.sort_values('F1-Score', ascending=False) #organiza o dataframe segundo o F1\n",
        "resultados.head(40)"
      ],
      "execution_count": null,
      "outputs": [
        {
          "output_type": "execute_result",
          "data": {
            "text/html": [
              "<div>\n",
              "<style scoped>\n",
              "    .dataframe tbody tr th:only-of-type {\n",
              "        vertical-align: middle;\n",
              "    }\n",
              "\n",
              "    .dataframe tbody tr th {\n",
              "        vertical-align: top;\n",
              "    }\n",
              "\n",
              "    .dataframe thead th {\n",
              "        text-align: right;\n",
              "    }\n",
              "</style>\n",
              "<table border=\"1\" class=\"dataframe\">\n",
              "  <thead>\n",
              "    <tr style=\"text-align: right;\">\n",
              "      <th></th>\n",
              "      <th>F1-Score</th>\n",
              "      <th>Precisão</th>\n",
              "      <th>Recall</th>\n",
              "      <th>Acurácia</th>\n",
              "    </tr>\n",
              "  </thead>\n",
              "  <tbody>\n",
              "    <tr>\n",
              "      <th>Gradient Boosting</th>\n",
              "      <td>0.983573</td>\n",
              "      <td>0.982886</td>\n",
              "      <td>0.984383</td>\n",
              "      <td>0.983987</td>\n",
              "    </tr>\n",
              "    <tr>\n",
              "      <th>AdaBoost</th>\n",
              "      <td>0.982458</td>\n",
              "      <td>0.983705</td>\n",
              "      <td>0.981371</td>\n",
              "      <td>0.982943</td>\n",
              "    </tr>\n",
              "    <tr>\n",
              "      <th>Rede Neural MLP (100)</th>\n",
              "      <td>0.981250</td>\n",
              "      <td>0.982865</td>\n",
              "      <td>0.979820</td>\n",
              "      <td>0.981771</td>\n",
              "    </tr>\n",
              "    <tr>\n",
              "      <th>Rede Neural MLP (10)</th>\n",
              "      <td>0.979761</td>\n",
              "      <td>0.982529</td>\n",
              "      <td>0.977168</td>\n",
              "      <td>0.980350</td>\n",
              "    </tr>\n",
              "    <tr>\n",
              "      <th>Rede Neural MLP (10,10)</th>\n",
              "      <td>0.979078</td>\n",
              "      <td>0.981658</td>\n",
              "      <td>0.976734</td>\n",
              "      <td>0.979681</td>\n",
              "    </tr>\n",
              "    <tr>\n",
              "      <th>Floresta Aleatória</th>\n",
              "      <td>0.975325</td>\n",
              "      <td>0.972745</td>\n",
              "      <td>0.978112</td>\n",
              "      <td>0.975876</td>\n",
              "    </tr>\n",
              "    <tr>\n",
              "      <th>Bagging de Árvores</th>\n",
              "      <td>0.974094</td>\n",
              "      <td>0.980268</td>\n",
              "      <td>0.968246</td>\n",
              "      <td>0.974960</td>\n",
              "    </tr>\n",
              "    <tr>\n",
              "      <th>Support Vector Machine (RBF)</th>\n",
              "      <td>0.971856</td>\n",
              "      <td>0.976515</td>\n",
              "      <td>0.967466</td>\n",
              "      <td>0.972743</td>\n",
              "    </tr>\n",
              "    <tr>\n",
              "      <th>Support Vector Machine (Poli.G3)</th>\n",
              "      <td>0.970201</td>\n",
              "      <td>0.972421</td>\n",
              "      <td>0.968243</td>\n",
              "      <td>0.971027</td>\n",
              "    </tr>\n",
              "    <tr>\n",
              "      <th>Regressão Logística</th>\n",
              "      <td>0.969370</td>\n",
              "      <td>0.972571</td>\n",
              "      <td>0.966445</td>\n",
              "      <td>0.970274</td>\n",
              "    </tr>\n",
              "    <tr>\n",
              "      <th>Bagging de Regressão Logística</th>\n",
              "      <td>0.967831</td>\n",
              "      <td>0.971210</td>\n",
              "      <td>0.964806</td>\n",
              "      <td>0.968770</td>\n",
              "    </tr>\n",
              "    <tr>\n",
              "      <th>Support Vector Machine (Linear)</th>\n",
              "      <td>0.967576</td>\n",
              "      <td>0.970261</td>\n",
              "      <td>0.965224</td>\n",
              "      <td>0.968517</td>\n",
              "    </tr>\n",
              "    <tr>\n",
              "      <th>Árvore de Decisão</th>\n",
              "      <td>0.966163</td>\n",
              "      <td>0.966646</td>\n",
              "      <td>0.966020</td>\n",
              "      <td>0.967017</td>\n",
              "    </tr>\n",
              "    <tr>\n",
              "      <th>Classificador Passivo Agressivo</th>\n",
              "      <td>0.960051</td>\n",
              "      <td>0.962794</td>\n",
              "      <td>0.958893</td>\n",
              "      <td>0.961164</td>\n",
              "    </tr>\n",
              "    <tr>\n",
              "      <th>Rede Neural Perceptron</th>\n",
              "      <td>0.957261</td>\n",
              "      <td>0.955829</td>\n",
              "      <td>0.960168</td>\n",
              "      <td>0.958196</td>\n",
              "    </tr>\n",
              "    <tr>\n",
              "      <th>Análise Discriminante Linear</th>\n",
              "      <td>0.943027</td>\n",
              "      <td>0.973136</td>\n",
              "      <td>0.915099</td>\n",
              "      <td>0.946237</td>\n",
              "    </tr>\n",
              "    <tr>\n",
              "      <th>Extra Árvores</th>\n",
              "      <td>0.942691</td>\n",
              "      <td>0.938888</td>\n",
              "      <td>0.946932</td>\n",
              "      <td>0.943937</td>\n",
              "    </tr>\n",
              "    <tr>\n",
              "      <th>Default-Vizinhos Mais Próximos</th>\n",
              "      <td>0.917951</td>\n",
              "      <td>0.940395</td>\n",
              "      <td>0.897076</td>\n",
              "      <td>0.921991</td>\n",
              "    </tr>\n",
              "    <tr>\n",
              "      <th>5-Vizinhos Mais Próximos</th>\n",
              "      <td>0.917820</td>\n",
              "      <td>0.941071</td>\n",
              "      <td>0.896398</td>\n",
              "      <td>0.921949</td>\n",
              "    </tr>\n",
              "    <tr>\n",
              "      <th>45-Vizinhos Mais Próximos</th>\n",
              "      <td>0.917662</td>\n",
              "      <td>0.971757</td>\n",
              "      <td>0.869976</td>\n",
              "      <td>0.924246</td>\n",
              "    </tr>\n",
              "    <tr>\n",
              "      <th>Support Vector Machine (Sigmoid)</th>\n",
              "      <td>0.862371</td>\n",
              "      <td>0.858638</td>\n",
              "      <td>0.866950</td>\n",
              "      <td>0.865297</td>\n",
              "    </tr>\n",
              "    <tr>\n",
              "      <th>Gaussian Naive Bayes</th>\n",
              "      <td>0.818298</td>\n",
              "      <td>0.713595</td>\n",
              "      <td>0.959739</td>\n",
              "      <td>0.791963</td>\n",
              "    </tr>\n",
              "    <tr>\n",
              "      <th>Análise Discriminante Quadrática</th>\n",
              "      <td>0.555660</td>\n",
              "      <td>0.859280</td>\n",
              "      <td>0.432239</td>\n",
              "      <td>0.686173</td>\n",
              "    </tr>\n",
              "  </tbody>\n",
              "</table>\n",
              "</div>"
            ],
            "text/plain": [
              "                                  F1-Score  Precisão    Recall  Acurácia\n",
              "Gradient Boosting                 0.983573  0.982886  0.984383  0.983987\n",
              "AdaBoost                          0.982458  0.983705  0.981371  0.982943\n",
              "Rede Neural MLP (100)             0.981250  0.982865  0.979820  0.981771\n",
              "Rede Neural MLP (10)              0.979761  0.982529  0.977168  0.980350\n",
              "Rede Neural MLP (10,10)           0.979078  0.981658  0.976734  0.979681\n",
              "Floresta Aleatória                0.975325  0.972745  0.978112  0.975876\n",
              "Bagging de Árvores                0.974094  0.980268  0.968246  0.974960\n",
              "Support Vector Machine (RBF)      0.971856  0.976515  0.967466  0.972743\n",
              "Support Vector Machine (Poli.G3)  0.970201  0.972421  0.968243  0.971027\n",
              "Regressão Logística               0.969370  0.972571  0.966445  0.970274\n",
              "Bagging de Regressão Logística    0.967831  0.971210  0.964806  0.968770\n",
              "Support Vector Machine (Linear)   0.967576  0.970261  0.965224  0.968517\n",
              "Árvore de Decisão                 0.966163  0.966646  0.966020  0.967017\n",
              "Classificador Passivo Agressivo   0.960051  0.962794  0.958893  0.961164\n",
              "Rede Neural Perceptron            0.957261  0.955829  0.960168  0.958196\n",
              "Análise Discriminante Linear      0.943027  0.973136  0.915099  0.946237\n",
              "Extra Árvores                     0.942691  0.938888  0.946932  0.943937\n",
              "Default-Vizinhos Mais Próximos    0.917951  0.940395  0.897076  0.921991\n",
              "5-Vizinhos Mais Próximos          0.917820  0.941071  0.896398  0.921949\n",
              "45-Vizinhos Mais Próximos         0.917662  0.971757  0.869976  0.924246\n",
              "Support Vector Machine (Sigmoid)  0.862371  0.858638  0.866950  0.865297\n",
              "Gaussian Naive Bayes              0.818298  0.713595  0.959739  0.791963\n",
              "Análise Discriminante Quadrática  0.555660  0.859280  0.432239  0.686173"
            ]
          },
          "metadata": {
            "tags": []
          },
          "execution_count": 26
        }
      ]
    },
    {
      "cell_type": "markdown",
      "metadata": {
        "id": "V1ZtkIiolsfI"
      },
      "source": [
        "Podemos observar pelos tempos de execução, que o maior tempo de treinamento ficou por conta do modelo de redes neurais MLP, que não necessariamente, se saíu melhor que outros modelos menos custosos.\n",
        "\n",
        "Por fim temos que o _Gradient Boosting_ ficou com o melhor F1-Score, seguidos do AdaBoost e da Rede Neural MLP (100). \n",
        "\n",
        "Vamos usar esses três modelos para fazer uma combinação _Hard_, mas antes vamos buscar seus melhores hyperparâmetros para que obtenham melhores resultados que seus algoritmos base."
      ]
    },
    {
      "cell_type": "markdown",
      "metadata": {
        "id": "syECNmEboIVo"
      },
      "source": [
        "### 4.4.1 Comparação Gráfica dos resultado"
      ]
    },
    {
      "cell_type": "code",
      "metadata": {
        "colab": {
          "base_uri": "https://localhost:8080/",
          "height": 693
        },
        "id": "ls2r-Tq8T9AZ",
        "outputId": "fa2d486d-1c37-4aef-e92b-a2b5471eef04"
      },
      "source": [
        "#Gráficos relevantes\n",
        "sns.set_color_codes(\"muted\")\n",
        "bgcolor = '#d9e7ff'\n",
        "ticagem = [.1, .2, .3, .4, 0.5, .6,.7,.8,.9]\n",
        "figura = plt.figure(figsize=(40,20)) \n",
        "figura.subplots_adjust(left=0.2, bottom=0.1, right=0.9, top=0.9, wspace=0.02, hspace=1)\n",
        "\n",
        "plt.subplot(1, 3, 1)\n",
        "plt.title('F1-Score')\n",
        "acc = sns.barplot(x = resultados.iloc[:,0], y = resultados.index.values, color='b')\n",
        "acc.axes.set_xlim([0, 1])\n",
        "acc.xaxis.set_ticks(ticagem)\n",
        "acc.set_facecolor(bgcolor)\n",
        "plt.xlabel('')\n",
        "\n",
        "plt.subplot(1, 3, 2)\n",
        "plt.title('Precisão')\n",
        "auc = sns.barplot(x = resultados.iloc[:,1], y = resultados.index.values, color='r')\n",
        "auc.axes.get_yaxis().set_visible(False)\n",
        "auc.axes.set_xlim([0, 1])\n",
        "auc.xaxis.set_ticks(ticagem)\n",
        "auc.set_facecolor(bgcolor)\n",
        "plt.xlabel('')\n",
        "plt.ylabel('')\n",
        "\n",
        "plt.subplot(1, 3, 3)\n",
        "plt.title('Recall')\n",
        "f1 = sns.barplot(x = resultados.iloc[:,2], y = resultados.index.values, color='g')\n",
        "f1.axes.set_xlim([0, 1])\n",
        "f1.xaxis.set_ticks(ticagem)\n",
        "f1.axes.get_yaxis().set_visible(False)\n",
        "f1.set_facecolor(bgcolor)\n",
        "plt.xlabel('')\n",
        "plt.ylabel('') \n",
        "\n",
        "plt.show()\n",
        "figura.savefig('medidas.pdf')#Salvando o gráfico"
      ],
      "execution_count": null,
      "outputs": [
        {
          "output_type": "display_data",
          "data": {
            "image/png": "[encoded data removed]",
            "text/plain": [
              "<Figure size 2880x1440 with 3 Axes>"
            ]
          },
          "metadata": {
            "tags": [],
            "needs_background": "light"
          }
        }
      ]
    },
    {
      "cell_type": "markdown",
      "metadata": {
        "id": "83YG1CkIowol"
      },
      "source": [
        "Um detalhe interessante é que a métrica F1-Score é uma média harmônica entre a Precisão e a Sensibilidade do modelo, por isso vemos que alguns modelos uma precisão maior, enquanto outros tem uma sensibilidade maior, alcançando quase os mesmos resultados do F1."
      ]
    },
    {
      "cell_type": "markdown",
      "metadata": {
        "id": "nDLToQLPpBBY"
      },
      "source": [
        "#5 Busca por Melhores Hiperparâmetros\n",
        "\n",
        "Escolhido o melhor pré-processamento e melhores algoritmos vamos fazer a tunagem de hiperparâmetros utilizando a função GridSearch, que busca a combinação de todos os valores especificados e retorna aquele com o melhor desempenho para a métrica escolhida, que no nosso caso é o F1."
      ]
    },
    {
      "cell_type": "markdown",
      "metadata": {
        "id": "_9c6m-9jpIe7"
      },
      "source": [
        "##5.1 Gradient Boosting"
      ]
    },
    {
      "cell_type": "code",
      "metadata": {
        "colab": {
          "background_save": true,
          "base_uri": "https://localhost:8080/"
        },
        "id": "cVhBBFEvVszA",
        "outputId": "cf2f9356-b942-496e-de60-4ae7fd405eb0"
      },
      "source": [
        "parametros_Grad = { 'n_estimators' : np.arange(20,101,10), \n",
        "                    'learning_rate' : np.arange(0.01,0.32,0.03),\n",
        "                    'max_depth': np.arange(3,10,3)\n",
        "                 }\n",
        "\n",
        "modeloGrad = GradientBoostingClassifier()\n",
        "validacao = RepeatedStratifiedKFold(n_splits = 10, n_repeats = 10)\n",
        "\n",
        "grid_Grad = GridSearchCV(modeloGrad, param_grid = parametros_Grad,\n",
        "                                  scoring = 'f1', cv = validacao, \n",
        "                                  verbose = 1, n_jobs = -1)\n",
        "\n",
        "grid_Grad.fit(Xtreino_2, Ytreino_2)\n",
        "melhor_Grad = grid_Grad.best_estimator_\n",
        "\n",
        "print('\\nF1-Score: {:.4f}'.format(grid_Grad.best_score_))\n",
        "print('Melhores parâmetros: {}\\n'.format(grid_Grad.best_params_))"
      ],
      "execution_count": null,
      "outputs": [
        {
          "output_type": "stream",
          "text": [
            "Fitting 100 folds for each of 297 candidates, totalling 29700 fits\n"
          ],
          "name": "stdout"
        },
        {
          "output_type": "stream",
          "text": [
            "[Parallel(n_jobs=-1)]: Using backend LokyBackend with 2 concurrent workers.\n",
            "[Parallel(n_jobs=-1)]: Done  88 tasks      | elapsed:    5.5s\n",
            "[Parallel(n_jobs=-1)]: Done 388 tasks      | elapsed:   39.0s\n",
            "[Parallel(n_jobs=-1)]: Done 850 tasks      | elapsed:  2.2min\n",
            "[Parallel(n_jobs=-1)]: Done 1200 tasks      | elapsed:  3.2min\n",
            "[Parallel(n_jobs=-1)]: Done 1650 tasks      | elapsed:  5.5min\n",
            "[Parallel(n_jobs=-1)]: Done 2200 tasks      | elapsed:  8.0min\n",
            "[Parallel(n_jobs=-1)]: Done 2850 tasks      | elapsed: 11.7min\n",
            "[Parallel(n_jobs=-1)]: Done 3600 tasks      | elapsed: 14.1min\n",
            "[Parallel(n_jobs=-1)]: Done 4450 tasks      | elapsed: 18.2min\n",
            "[Parallel(n_jobs=-1)]: Done 5400 tasks      | elapsed: 23.8min\n",
            "[Parallel(n_jobs=-1)]: Done 6450 tasks      | elapsed: 26.6min\n",
            "[Parallel(n_jobs=-1)]: Done 7600 tasks      | elapsed: 32.5min\n",
            "[Parallel(n_jobs=-1)]: Done 8850 tasks      | elapsed: 38.1min\n",
            "[Parallel(n_jobs=-1)]: Done 10200 tasks      | elapsed: 44.5min\n",
            "[Parallel(n_jobs=-1)]: Done 11650 tasks      | elapsed: 50.9min\n",
            "[Parallel(n_jobs=-1)]: Done 13200 tasks      | elapsed: 58.5min\n",
            "[Parallel(n_jobs=-1)]: Done 14850 tasks      | elapsed: 64.4min\n",
            "[Parallel(n_jobs=-1)]: Done 16600 tasks      | elapsed: 72.2min\n",
            "[Parallel(n_jobs=-1)]: Done 18450 tasks      | elapsed: 80.3min\n",
            "[Parallel(n_jobs=-1)]: Done 20400 tasks      | elapsed: 87.5min\n",
            "[Parallel(n_jobs=-1)]: Done 22450 tasks      | elapsed: 95.2min\n",
            "[Parallel(n_jobs=-1)]: Done 24600 tasks      | elapsed: 103.3min\n",
            "[Parallel(n_jobs=-1)]: Done 26850 tasks      | elapsed: 111.8min\n",
            "[Parallel(n_jobs=-1)]: Done 29200 tasks      | elapsed: 119.9min\n",
            "[Parallel(n_jobs=-1)]: Done 29700 out of 29700 | elapsed: 121.6min finished\n"
          ],
          "name": "stderr"
        },
        {
          "output_type": "stream",
          "text": [
            "\n",
            "F1-Score: 0.9837\n",
            "Melhores parâmetros: {'learning_rate': 0.13, 'max_depth': 3, 'n_estimators': 70}\n",
            "\n"
          ],
          "name": "stdout"
        }
      ]
    },
    {
      "cell_type": "markdown",
      "metadata": {
        "id": "eBE-mBktrh10"
      },
      "source": [
        "Os melhores parâmetros para o _Gradient_ levaram o modelo a alcançar o F1-Score de 98,37%. Um resultado muito bom se comparado com os outros modelos.\n",
        "\n",
        "Melhores parâmetros: {'learning_rate': 0.13, 'max_depth': 3, 'n_estimators': 70}"
      ]
    },
    {
      "cell_type": "markdown",
      "metadata": {
        "id": "t8BL048Lr-VN"
      },
      "source": [
        "##5.2 AdaBoost"
      ]
    },
    {
      "cell_type": "code",
      "metadata": {
        "id": "GzuXOCbMWC0m",
        "colab": {
          "base_uri": "https://localhost:8080/"
        },
        "outputId": "f90eb010-cd1e-4ba6-a430-ec7215bba86f"
      },
      "source": [
        "parametros_Ad = {'n_estimators': np.arange(20,101,10), 'learning_rate': np.arange(0.01,0.32,0.03), 'random_state': np.arange(3,10,3)}\n",
        "validacao = RepeatedStratifiedKFold(n_splits = 10, n_repeats = 10)\n",
        "modeloAd = AdaBoostClassifier()\n",
        "grid_Ad = GridSearchCV(modeloAd, param_grid = parametros_Ad,scoring = 'f1', cv = validacao, verbose = 1 , n_jobs = -1)\n",
        "grid_Ad.fit(Xtreino_2, Ytreino_2)#Treina o algorítimo com as especificações acima buscando melhores paramêtros\n",
        "melhor_Ad = grid_Ad.best_estimator_ #'base_estimator': None , 'algorithm':'SAMME.R,verbose = 1 , n_jobs = -1\n",
        "\n",
        "print('\\nF1-Score: {:.4f}'.format(grid_Ad.best_score_))\n",
        "print('Melhores parâmetros: {}\\n'.format(grid_Ad.best_params_))"
      ],
      "execution_count": null,
      "outputs": [
        {
          "output_type": "stream",
          "text": [
            "Fitting 100 folds for each of 297 candidates, totalling 29700 fits\n"
          ],
          "name": "stdout"
        },
        {
          "output_type": "stream",
          "text": [
            "[Parallel(n_jobs=-1)]: Using backend LokyBackend with 2 concurrent workers.\n",
            "[Parallel(n_jobs=-1)]: Done  46 tasks      | elapsed:    4.2s\n",
            "[Parallel(n_jobs=-1)]: Done 196 tasks      | elapsed:   14.1s\n",
            "[Parallel(n_jobs=-1)]: Done 446 tasks      | elapsed:   34.4s\n",
            "[Parallel(n_jobs=-1)]: Done 796 tasks      | elapsed:  1.2min\n",
            "[Parallel(n_jobs=-1)]: Done 1246 tasks      | elapsed:  2.3min\n",
            "[Parallel(n_jobs=-1)]: Done 1796 tasks      | elapsed:  4.0min\n",
            "[Parallel(n_jobs=-1)]: Done 2446 tasks      | elapsed:  6.5min\n",
            "[Parallel(n_jobs=-1)]: Done 3196 tasks      | elapsed:  8.3min\n",
            "[Parallel(n_jobs=-1)]: Done 4046 tasks      | elapsed: 10.2min\n",
            "[Parallel(n_jobs=-1)]: Done 4996 tasks      | elapsed: 13.6min\n",
            "[Parallel(n_jobs=-1)]: Done 6046 tasks      | elapsed: 16.3min\n",
            "[Parallel(n_jobs=-1)]: Done 7196 tasks      | elapsed: 19.4min\n",
            "[Parallel(n_jobs=-1)]: Done 8446 tasks      | elapsed: 23.6min\n",
            "[Parallel(n_jobs=-1)]: Done 9796 tasks      | elapsed: 26.9min\n",
            "[Parallel(n_jobs=-1)]: Done 11246 tasks      | elapsed: 31.5min\n",
            "[Parallel(n_jobs=-1)]: Done 12796 tasks      | elapsed: 35.7min\n",
            "[Parallel(n_jobs=-1)]: Done 14446 tasks      | elapsed: 40.3min\n",
            "[Parallel(n_jobs=-1)]: Done 16196 tasks      | elapsed: 46.5min\n",
            "[Parallel(n_jobs=-1)]: Done 18046 tasks      | elapsed: 50.7min\n",
            "[Parallel(n_jobs=-1)]: Done 19996 tasks      | elapsed: 56.2min\n",
            "[Parallel(n_jobs=-1)]: Done 22046 tasks      | elapsed: 62.7min\n",
            "[Parallel(n_jobs=-1)]: Done 24196 tasks      | elapsed: 69.4min\n",
            "[Parallel(n_jobs=-1)]: Done 26446 tasks      | elapsed: 75.3min\n",
            "[Parallel(n_jobs=-1)]: Done 28796 tasks      | elapsed: 81.8min\n",
            "[Parallel(n_jobs=-1)]: Done 29700 out of 29700 | elapsed: 85.6min finished\n"
          ],
          "name": "stderr"
        },
        {
          "output_type": "stream",
          "text": [
            "\n",
            "F1-Score: 0.9819\n",
            "Melhores parâmetros: {'learning_rate': 0.31, 'n_estimators': 100, 'random_state': 3}\n",
            "\n"
          ],
          "name": "stdout"
        }
      ]
    },
    {
      "cell_type": "markdown",
      "metadata": {
        "id": "ckiX4-LTsPW-"
      },
      "source": [
        "A _AdaBoost_ teve um desempenho um pouco abaixo em relação aos parâmetros bases, sem que os ajustes dos hiperparâmetros resultassem em melhores resultados.\n",
        "\n",
        "Melhores parâmetros: {'learning_rate': 0.31, 'n_estimators': 100, 'random_state': 3}"
      ]
    },
    {
      "cell_type": "markdown",
      "metadata": {
        "id": "R7MMQ5fgsaTr"
      },
      "source": [
        "##5.3 Rede Neural MLP (100)"
      ]
    },
    {
      "cell_type": "code",
      "metadata": {
        "id": "F9s7fxu80Ddm",
        "colab": {
          "base_uri": "https://localhost:8080/"
        },
        "outputId": "829eb396-de08-460a-e3f5-77bf4dd78125"
      },
      "source": [
        "parametros_MPL100 = {'hidden_layer_sizes': np.arange(20,101,10), 'max_iter': np.arange(20,101,10)}\n",
        "validacao = RepeatedStratifiedKFold(n_splits = 10, n_repeats = 10)\n",
        "modeloMPL100 = MLPClassifier()\n",
        "grid_MPL100 = GridSearchCV(modeloMPL100, param_grid = parametros_MPL100,scoring = 'f1', cv = validacao, verbose = 1 , n_jobs = -1)\n",
        "grid_MPL100.fit(Xtreino_2, Ytreino_2)#Treina o algorítimo com as especificações acima buscando melhores paramêtros\n",
        "melhor_MPL100 = grid_MPL100.best_estimator_  \n",
        "\n",
        "print('\\nF1-Score: {:.4f}'.format(grid_MPL100.best_score_))\n",
        "print('Melhores parâmetros: {}\\n'.format(grid_MPL100.best_params_))"
      ],
      "execution_count": null,
      "outputs": [
        {
          "output_type": "stream",
          "text": [
            "Fitting 100 folds for each of 81 candidates, totalling 8100 fits\n"
          ],
          "name": "stdout"
        },
        {
          "output_type": "stream",
          "text": [
            "[Parallel(n_jobs=-1)]: Using backend LokyBackend with 2 concurrent workers.\n",
            "[Parallel(n_jobs=-1)]: Done  46 tasks      | elapsed:    5.8s\n",
            "[Parallel(n_jobs=-1)]: Done 196 tasks      | elapsed:   25.0s\n",
            "[Parallel(n_jobs=-1)]: Done 446 tasks      | elapsed:  1.3min\n",
            "[Parallel(n_jobs=-1)]: Done 796 tasks      | elapsed:  3.3min\n",
            "[Parallel(n_jobs=-1)]: Done 1246 tasks      | elapsed:  5.1min\n",
            "[Parallel(n_jobs=-1)]: Done 1796 tasks      | elapsed:  8.6min\n",
            "[Parallel(n_jobs=-1)]: Done 2446 tasks      | elapsed: 11.3min\n",
            "[Parallel(n_jobs=-1)]: Done 3196 tasks      | elapsed: 15.3min\n",
            "[Parallel(n_jobs=-1)]: Done 4046 tasks      | elapsed: 20.2min\n",
            "[Parallel(n_jobs=-1)]: Done 4996 tasks      | elapsed: 26.0min\n",
            "[Parallel(n_jobs=-1)]: Done 6046 tasks      | elapsed: 33.1min\n",
            "[Parallel(n_jobs=-1)]: Done 7196 tasks      | elapsed: 42.0min\n",
            "[Parallel(n_jobs=-1)]: Done 8100 out of 8100 | elapsed: 48.8min finished\n"
          ],
          "name": "stderr"
        },
        {
          "output_type": "stream",
          "text": [
            "\n",
            "F1-Score: 0.9824\n",
            "Melhores parâmetros: {'hidden_layer_sizes': 90, 'max_iter': 100}\n",
            "\n"
          ],
          "name": "stdout"
        },
        {
          "output_type": "stream",
          "text": [
            "/usr/local/lib/python3.7/dist-packages/sklearn/neural_network/_multilayer_perceptron.py:571: ConvergenceWarning: Stochastic Optimizer: Maximum iterations (100) reached and the optimization hasn't converged yet.\n",
            "  % self.max_iter, ConvergenceWarning)\n"
          ],
          "name": "stderr"
        }
      ]
    },
    {
      "cell_type": "markdown",
      "metadata": {
        "id": "CT1ouzZts0RZ"
      },
      "source": [
        "Vemos que apesar do algoritmo base do MPL(100) ter se mostrado com F1-score = 98,12%,o reajuste dos hiperparâmetros resultaram em melhores resultados, F1-score = 98,24%.\n",
        "\n",
        "Melhores parâmetros: {'hidden_layer_sizes': 90, 'max_iter': 100}"
      ]
    },
    {
      "cell_type": "markdown",
      "metadata": {
        "id": "0fP6ox8GtIdi"
      },
      "source": [
        "#6 Combinação por Votos\n",
        "\n",
        "Encontrado os melhores hiperparâmetros para os modelos, vamos combinar os 3 e fazer um teste antes de submetermos para competição."
      ]
    },
    {
      "cell_type": "code",
      "metadata": {
        "id": "uuFXsrqUMMMe"
      },
      "source": [
        "modelo_Grad = GradientBoostingClassifier(learning_rate = 0.13, max_depth = 3, n_estimators = 70)\n",
        "\n",
        "modelo_AdaB = AdaBoostClassifier(learning_rate = 0.31, n_estimators = 100, random_state = 3)\n",
        "\n",
        "modelo_MLPC = MLPClassifier(hidden_layer_sizes= 90, max_iter= 100)\n"
      ],
      "execution_count": null,
      "outputs": []
    },
    {
      "cell_type": "code",
      "metadata": {
        "colab": {
          "base_uri": "https://localhost:8080/"
        },
        "id": "4v2ShFllNSQY",
        "outputId": "4a4b62f5-f251-4cef-9236-fa6393a9c61b"
      },
      "source": [
        "validacao = RepeatedStratifiedKFold(n_splits = 10, n_repeats = 10)\n",
        "\n",
        "#LISTA DE MODELOS - Nome do modelo + instancia do modelo\n",
        "modelos = [('Gradiente', modelo_Grad), ('MLP ', modelo_MLPC),('AdaBoost', modelo_AdaB)]\n",
        "#modelo de votos soft implementado \n",
        "\n",
        "modelo = VotingClassifier(modelos, voting = 'hard')\n",
        "\n",
        "#medidas apuradas do modelo selecionado, vendo apenas a métrica F1-Score com o método kfold repetido\n",
        "medidas = cross_validate(modelo, Xtreino_2, Ytreino_2, cv = validacao, scoring = 'f1', verbose = 2, n_jobs = -1)\n",
        "medidas['test_score'].mean()#resultado para cada iteração e para cada repetição"
      ],
      "execution_count": null,
      "outputs": [
        {
          "output_type": "stream",
          "text": [
            "[Parallel(n_jobs=-1)]: Using backend LokyBackend with 2 concurrent workers.\n",
            "[Parallel(n_jobs=-1)]: Done  37 tasks      | elapsed:   47.9s\n",
            "[Parallel(n_jobs=-1)]: Done 100 out of 100 | elapsed:  2.1min finished\n"
          ],
          "name": "stderr"
        },
        {
          "output_type": "execute_result",
          "data": {
            "text/plain": [
              "0.9854967197043538"
            ]
          },
          "metadata": {
            "tags": []
          },
          "execution_count": 29
        }
      ]
    },
    {
      "cell_type": "markdown",
      "metadata": {
        "id": "bVONZC4BtaIe"
      },
      "source": [
        "A combinação de modelos sugere um leve aumento se comparado com o _GradientBoosting_ sozinho. \n",
        "\n",
        "Mas foi um aumento significante para a colocação final no desafio."
      ]
    },
    {
      "cell_type": "markdown",
      "metadata": {
        "id": "QaFkFq9XtpP2"
      },
      "source": [
        "#7 Submissão\n",
        "\n",
        "Agora que temos os melhores modelos e as melhores técnicas para tratamento do conjunto de dados, vamos aplicar o mesmo pré-processamento ao conjunto de dados da submissão, treinar os modelos com todo conjunto de dados de teste e preparar o arquivo de submissão para a competição."
      ]
    },
    {
      "cell_type": "markdown",
      "metadata": {
        "id": "xWT5m-nst7ke"
      },
      "source": [
        "##7.1 Pré-Processamento Submissão"
      ]
    },
    {
      "cell_type": "code",
      "metadata": {
        "id": "R4TzFc4ENxFj"
      },
      "source": [
        "#Fazendo o Mapeamento de categorias bivariadas\n",
        "data_sub_map = data_sub.copy()\n",
        "data_sub_map['Partner'] = data_sub_map['Partner'].map({'Yes': 1, 'No':0})\n",
        "data_sub_map['Dependents'] = data_sub_map['Dependents'].map({'Yes': 1, 'No':0})\n",
        "data_sub_map['PhoneService'] = data_sub_map['PhoneService'].map({'Yes': 1, 'No':0})\n",
        "data_sub_map['PaperlessBilling'] = data_sub_map['PaperlessBilling'].map({'Yes': 1, 'No':0})\n",
        "data_sub_map['gender'] = data_sub_map['gender'].map({'Male': 1, 'Female':0})\n"
      ],
      "execution_count": null,
      "outputs": []
    },
    {
      "cell_type": "code",
      "metadata": {
        "id": "WeucUCkgOsu5"
      },
      "source": [
        "sc = StandardScaler()\n",
        "data_sub_norm = data_sub_map.copy()\n",
        "\n",
        "aux0 = sc.fit_transform(data_sub_norm[['tenure']])#faz o ajuste, calculo da média e do desvio padrão. (- a mpedia) / desvio padrão\n",
        "aux1 = pd.DataFrame(aux0, columns = ['Tenure'])#transforma num data frame o numpy array e adicionado ao data frame\n",
        "data_sub_norm = pd.concat([data_sub_norm, aux1], axis = 1)#concatena com o o conjunto de dados\n",
        "data_sub_norm.drop(['tenure'], axis = 1, inplace = True) #dropa as colunas antigas do conjunto de dados\n"
      ],
      "execution_count": null,
      "outputs": []
    },
    {
      "cell_type": "code",
      "metadata": {
        "colab": {
          "base_uri": "https://localhost:8080/",
          "height": 258
        },
        "id": "aj7-dAe3XKep",
        "outputId": "593513bc-046c-405c-ad56-3286ed9f931f"
      },
      "source": [
        "data_sub_norm_dumi = data_sub_norm.copy()\n",
        "data_sub_norm_dumi = pd.get_dummies(data_sub_norm_dumi, columns = ['OnlineSecurity', 'OnlineBackup', 'DeviceProtection', 'TechSupport','StreamingTV', 'StreamingMovies','MultipleLines'])\n",
        "data_sub_norm_dumi.head()"
      ],
      "execution_count": null,
      "outputs": [
        {
          "output_type": "execute_result",
          "data": {
            "text/html": [
              "<div>\n",
              "<style scoped>\n",
              "    .dataframe tbody tr th:only-of-type {\n",
              "        vertical-align: middle;\n",
              "    }\n",
              "\n",
              "    .dataframe tbody tr th {\n",
              "        vertical-align: top;\n",
              "    }\n",
              "\n",
              "    .dataframe thead th {\n",
              "        text-align: right;\n",
              "    }\n",
              "</style>\n",
              "<table border=\"1\" class=\"dataframe\">\n",
              "  <thead>\n",
              "    <tr style=\"text-align: right;\">\n",
              "      <th></th>\n",
              "      <th>gender</th>\n",
              "      <th>SeniorCitizen</th>\n",
              "      <th>Partner</th>\n",
              "      <th>Dependents</th>\n",
              "      <th>PhoneService</th>\n",
              "      <th>PaperlessBilling</th>\n",
              "      <th>Tenure</th>\n",
              "      <th>OnlineBackup_No</th>\n",
              "      <th>OnlineBackup_No internet service</th>\n",
              "      <th>OnlineBackup_Yes</th>\n",
              "      <th>DeviceProtection_No</th>\n",
              "      <th>DeviceProtection_No internet service</th>\n",
              "      <th>DeviceProtection_Yes</th>\n",
              "      <th>StreamingMovies_No</th>\n",
              "      <th>StreamingMovies_No internet service</th>\n",
              "      <th>StreamingMovies_Yes</th>\n",
              "      <th>TechSupport_No</th>\n",
              "      <th>TechSupport_No internet service</th>\n",
              "      <th>TechSupport_Yes</th>\n",
              "      <th>OnlineSecurity_No</th>\n",
              "      <th>OnlineSecurity_No internet service</th>\n",
              "      <th>OnlineSecurity_Yes</th>\n",
              "      <th>StreamingTV_No</th>\n",
              "      <th>StreamingTV_No internet service</th>\n",
              "      <th>StreamingTV_Yes</th>\n",
              "      <th>Contract_Month-to-month</th>\n",
              "      <th>Contract_One year</th>\n",
              "      <th>Contract_Two year</th>\n",
              "      <th>MultipleLines_No</th>\n",
              "      <th>MultipleLines_No phone service</th>\n",
              "      <th>MultipleLines_Yes</th>\n",
              "      <th>InternetService_DSL</th>\n",
              "      <th>InternetService_Fiber optic</th>\n",
              "      <th>InternetService_No</th>\n",
              "      <th>PaymentMethod_Bank transfer (automatic)</th>\n",
              "      <th>PaymentMethod_Credit card (automatic)</th>\n",
              "      <th>PaymentMethod_Electronic check</th>\n",
              "      <th>PaymentMethod_Mailed check</th>\n",
              "    </tr>\n",
              "  </thead>\n",
              "  <tbody>\n",
              "    <tr>\n",
              "      <th>0</th>\n",
              "      <td>0</td>\n",
              "      <td>0</td>\n",
              "      <td>1</td>\n",
              "      <td>1</td>\n",
              "      <td>1</td>\n",
              "      <td>0</td>\n",
              "      <td>-0.393471</td>\n",
              "      <td>0</td>\n",
              "      <td>1</td>\n",
              "      <td>0</td>\n",
              "      <td>0</td>\n",
              "      <td>1</td>\n",
              "      <td>0</td>\n",
              "      <td>0</td>\n",
              "      <td>1</td>\n",
              "      <td>0</td>\n",
              "      <td>0</td>\n",
              "      <td>1</td>\n",
              "      <td>0</td>\n",
              "      <td>0</td>\n",
              "      <td>1</td>\n",
              "      <td>0</td>\n",
              "      <td>0</td>\n",
              "      <td>1</td>\n",
              "      <td>0</td>\n",
              "      <td>0</td>\n",
              "      <td>1</td>\n",
              "      <td>0</td>\n",
              "      <td>1</td>\n",
              "      <td>0</td>\n",
              "      <td>0</td>\n",
              "      <td>0</td>\n",
              "      <td>0</td>\n",
              "      <td>1</td>\n",
              "      <td>0</td>\n",
              "      <td>0</td>\n",
              "      <td>0</td>\n",
              "      <td>1</td>\n",
              "    </tr>\n",
              "    <tr>\n",
              "      <th>1</th>\n",
              "      <td>0</td>\n",
              "      <td>0</td>\n",
              "      <td>0</td>\n",
              "      <td>0</td>\n",
              "      <td>1</td>\n",
              "      <td>1</td>\n",
              "      <td>-0.229463</td>\n",
              "      <td>0</td>\n",
              "      <td>0</td>\n",
              "      <td>1</td>\n",
              "      <td>1</td>\n",
              "      <td>0</td>\n",
              "      <td>0</td>\n",
              "      <td>1</td>\n",
              "      <td>0</td>\n",
              "      <td>0</td>\n",
              "      <td>1</td>\n",
              "      <td>0</td>\n",
              "      <td>0</td>\n",
              "      <td>0</td>\n",
              "      <td>0</td>\n",
              "      <td>1</td>\n",
              "      <td>1</td>\n",
              "      <td>0</td>\n",
              "      <td>0</td>\n",
              "      <td>1</td>\n",
              "      <td>0</td>\n",
              "      <td>0</td>\n",
              "      <td>1</td>\n",
              "      <td>0</td>\n",
              "      <td>0</td>\n",
              "      <td>1</td>\n",
              "      <td>0</td>\n",
              "      <td>0</td>\n",
              "      <td>0</td>\n",
              "      <td>0</td>\n",
              "      <td>0</td>\n",
              "      <td>1</td>\n",
              "    </tr>\n",
              "    <tr>\n",
              "      <th>2</th>\n",
              "      <td>1</td>\n",
              "      <td>0</td>\n",
              "      <td>0</td>\n",
              "      <td>0</td>\n",
              "      <td>1</td>\n",
              "      <td>0</td>\n",
              "      <td>-1.254512</td>\n",
              "      <td>0</td>\n",
              "      <td>1</td>\n",
              "      <td>0</td>\n",
              "      <td>0</td>\n",
              "      <td>1</td>\n",
              "      <td>0</td>\n",
              "      <td>0</td>\n",
              "      <td>1</td>\n",
              "      <td>0</td>\n",
              "      <td>0</td>\n",
              "      <td>1</td>\n",
              "      <td>0</td>\n",
              "      <td>0</td>\n",
              "      <td>1</td>\n",
              "      <td>0</td>\n",
              "      <td>0</td>\n",
              "      <td>1</td>\n",
              "      <td>0</td>\n",
              "      <td>1</td>\n",
              "      <td>0</td>\n",
              "      <td>0</td>\n",
              "      <td>1</td>\n",
              "      <td>0</td>\n",
              "      <td>0</td>\n",
              "      <td>0</td>\n",
              "      <td>0</td>\n",
              "      <td>1</td>\n",
              "      <td>0</td>\n",
              "      <td>0</td>\n",
              "      <td>0</td>\n",
              "      <td>1</td>\n",
              "    </tr>\n",
              "    <tr>\n",
              "      <th>3</th>\n",
              "      <td>0</td>\n",
              "      <td>0</td>\n",
              "      <td>0</td>\n",
              "      <td>0</td>\n",
              "      <td>1</td>\n",
              "      <td>1</td>\n",
              "      <td>0.631577</td>\n",
              "      <td>1</td>\n",
              "      <td>0</td>\n",
              "      <td>0</td>\n",
              "      <td>0</td>\n",
              "      <td>0</td>\n",
              "      <td>1</td>\n",
              "      <td>0</td>\n",
              "      <td>0</td>\n",
              "      <td>1</td>\n",
              "      <td>0</td>\n",
              "      <td>0</td>\n",
              "      <td>1</td>\n",
              "      <td>0</td>\n",
              "      <td>0</td>\n",
              "      <td>1</td>\n",
              "      <td>0</td>\n",
              "      <td>0</td>\n",
              "      <td>1</td>\n",
              "      <td>0</td>\n",
              "      <td>0</td>\n",
              "      <td>1</td>\n",
              "      <td>1</td>\n",
              "      <td>0</td>\n",
              "      <td>0</td>\n",
              "      <td>0</td>\n",
              "      <td>1</td>\n",
              "      <td>0</td>\n",
              "      <td>0</td>\n",
              "      <td>1</td>\n",
              "      <td>0</td>\n",
              "      <td>0</td>\n",
              "    </tr>\n",
              "    <tr>\n",
              "      <th>4</th>\n",
              "      <td>1</td>\n",
              "      <td>0</td>\n",
              "      <td>1</td>\n",
              "      <td>0</td>\n",
              "      <td>1</td>\n",
              "      <td>1</td>\n",
              "      <td>1.574622</td>\n",
              "      <td>0</td>\n",
              "      <td>0</td>\n",
              "      <td>1</td>\n",
              "      <td>0</td>\n",
              "      <td>0</td>\n",
              "      <td>1</td>\n",
              "      <td>0</td>\n",
              "      <td>0</td>\n",
              "      <td>1</td>\n",
              "      <td>0</td>\n",
              "      <td>0</td>\n",
              "      <td>1</td>\n",
              "      <td>1</td>\n",
              "      <td>0</td>\n",
              "      <td>0</td>\n",
              "      <td>0</td>\n",
              "      <td>0</td>\n",
              "      <td>1</td>\n",
              "      <td>0</td>\n",
              "      <td>0</td>\n",
              "      <td>1</td>\n",
              "      <td>1</td>\n",
              "      <td>0</td>\n",
              "      <td>0</td>\n",
              "      <td>0</td>\n",
              "      <td>1</td>\n",
              "      <td>0</td>\n",
              "      <td>0</td>\n",
              "      <td>0</td>\n",
              "      <td>1</td>\n",
              "      <td>0</td>\n",
              "    </tr>\n",
              "  </tbody>\n",
              "</table>\n",
              "</div>"
            ],
            "text/plain": [
              "   gender  ...  PaymentMethod_Mailed check\n",
              "0       0  ...                           1\n",
              "1       0  ...                           1\n",
              "2       1  ...                           1\n",
              "3       0  ...                           0\n",
              "4       1  ...                           0\n",
              "\n",
              "[5 rows x 38 columns]"
            ]
          },
          "metadata": {
            "tags": []
          },
          "execution_count": 32
        }
      ]
    },
    {
      "cell_type": "markdown",
      "metadata": {
        "id": "1tPglzK2upPP"
      },
      "source": [
        "#7.2 Fazendo a submissão\n",
        "\n",
        "Agora vamos utilizar todo o conjunto de dados de teste para treinar novos modelos, fazer a combinação por votos e classificar as entradas do conjunto fornecido para submissão (2500 linhas). \n",
        "\n",
        "Guardaremos apenas as respostas (_Cliente_) na mesma ordem que foi fornecida em um arquivo .csv."
      ]
    },
    {
      "cell_type": "code",
      "metadata": {
        "id": "0LZYMuSTXLrt"
      },
      "source": [
        "#modelos_sub = [('Gradiente', modelo_Grad), ('MLP 100', modelo_MLPC),('Modelo Ada', modelo_AdaB)]\n",
        "modelos_sub = [('Gradiente', modelo_Grad), ('Árvore', modelo_Randon), ('SVM', modelo_SVM),('Modelo Ada', modelo_AdaB)]\n",
        "modelo_sub = VotingClassifier(modelos_sub, voting = 'hard')\n",
        "\n",
        "\n",
        "modelo_sub.fit(Xtreino_2, Ytreino_2)\n",
        "pred_sub = modelo_sub.predict(data_sub_norm_dumi)"
      ],
      "execution_count": null,
      "outputs": []
    },
    {
      "cell_type": "code",
      "metadata": {
        "id": "mzEl2UdXXzp_"
      },
      "source": [
        "predicao_final = pd.DataFrame()\n",
        "predicao_final['Cliente'] = pred_sub\n",
        "#Escrevendo CSV\n",
        "predicao_final.to_csv('D:\\Submissão5.csv', index = False)"
      ],
      "execution_count": null,
      "outputs": []
    },
    {
      "cell_type": "code",
      "metadata": {
        "id": "JMhq9NZ_X9vY",
        "colab": {
          "base_uri": "https://localhost:8080/"
        },
        "outputId": "f312750a-4958-4a72-cfa0-0a4867135e1e"
      },
      "source": [
        "predicao_final.info()"
      ],
      "execution_count": null,
      "outputs": [
        {
          "output_type": "stream",
          "text": [
            "<class 'pandas.core.frame.DataFrame'>\n",
            "RangeIndex: 2500 entries, 0 to 2499\n",
            "Data columns (total 1 columns):\n",
            " #   Column   Non-Null Count  Dtype\n",
            "---  ------   --------------  -----\n",
            " 0   Cliente  2500 non-null   int64\n",
            "dtypes: int64(1)\n",
            "memory usage: 19.7 KB\n"
          ],
          "name": "stdout"
        }
      ]
    },
    {
      "cell_type": "code",
      "metadata": {
        "id": "dwbuwM12YlLW",
        "colab": {
          "base_uri": "https://localhost:8080/",
          "height": 419
        },
        "outputId": "7c3e21c5-9c58-4b12-b5a1-5ca15b2a0730"
      },
      "source": [
        "predicao_final"
      ],
      "execution_count": null,
      "outputs": [
        {
          "output_type": "execute_result",
          "data": {
            "text/html": [
              "<div>\n",
              "<style scoped>\n",
              "    .dataframe tbody tr th:only-of-type {\n",
              "        vertical-align: middle;\n",
              "    }\n",
              "\n",
              "    .dataframe tbody tr th {\n",
              "        vertical-align: top;\n",
              "    }\n",
              "\n",
              "    .dataframe thead th {\n",
              "        text-align: right;\n",
              "    }\n",
              "</style>\n",
              "<table border=\"1\" class=\"dataframe\">\n",
              "  <thead>\n",
              "    <tr style=\"text-align: right;\">\n",
              "      <th></th>\n",
              "      <th>Cliente</th>\n",
              "    </tr>\n",
              "  </thead>\n",
              "  <tbody>\n",
              "    <tr>\n",
              "      <th>0</th>\n",
              "      <td>0</td>\n",
              "    </tr>\n",
              "    <tr>\n",
              "      <th>1</th>\n",
              "      <td>1</td>\n",
              "    </tr>\n",
              "    <tr>\n",
              "      <th>2</th>\n",
              "      <td>0</td>\n",
              "    </tr>\n",
              "    <tr>\n",
              "      <th>3</th>\n",
              "      <td>1</td>\n",
              "    </tr>\n",
              "    <tr>\n",
              "      <th>4</th>\n",
              "      <td>1</td>\n",
              "    </tr>\n",
              "    <tr>\n",
              "      <th>...</th>\n",
              "      <td>...</td>\n",
              "    </tr>\n",
              "    <tr>\n",
              "      <th>2495</th>\n",
              "      <td>1</td>\n",
              "    </tr>\n",
              "    <tr>\n",
              "      <th>2496</th>\n",
              "      <td>0</td>\n",
              "    </tr>\n",
              "    <tr>\n",
              "      <th>2497</th>\n",
              "      <td>0</td>\n",
              "    </tr>\n",
              "    <tr>\n",
              "      <th>2498</th>\n",
              "      <td>0</td>\n",
              "    </tr>\n",
              "    <tr>\n",
              "      <th>2499</th>\n",
              "      <td>0</td>\n",
              "    </tr>\n",
              "  </tbody>\n",
              "</table>\n",
              "<p>2500 rows × 1 columns</p>\n",
              "</div>"
            ],
            "text/plain": [
              "      Cliente\n",
              "0           0\n",
              "1           1\n",
              "2           0\n",
              "3           1\n",
              "4           1\n",
              "...       ...\n",
              "2495        1\n",
              "2496        0\n",
              "2497        0\n",
              "2498        0\n",
              "2499        0\n",
              "\n",
              "[2500 rows x 1 columns]"
            ]
          },
          "metadata": {
            "tags": []
          },
          "execution_count": 36
        }
      ]
    },
    {
      "cell_type": "markdown",
      "metadata": {
        "id": "2q-IMNXrvNyd"
      },
      "source": [
        "#8 Conclusões\n",
        "Durante a análise exploratória consegui identificar alguns fatores ligados a tenure, que levam a uma maior chance de o cliente ser premium, ou normal. Essa relação também foi encontrada quanto a _InternetService_,  _OnlineBackup_, _StreamingMovies_, _TechSuport_, _DeviceProtection_, _StreamingTV_, _OnlineSecurity_. Mas nenhuma delas foram capazes de nos dizer isoladamente se o cliente teria uma chance absoluta de ser premium ou não, por isso o emprego de modelos de machine learning se mostram uma ótima alternativa de relacionar informações.\n",
        "\n",
        "A combinação dos modelos de _GradientBoosting, AdaBoost e MLP_ obteve resultados melhores que qualquer um dos três algoritmos sozinhos, e apesar de apenas o _Gradient_ ter alcançado os 98,35% de F1, a combinação com modelos mais fracos levou a resultados melhores."
      ]
    },
    {
      "cell_type": "markdown",
      "metadata": {
        "id": "Sim0n_0SvdBH"
      },
      "source": [
        "#9 Considerações\n",
        "\n",
        "O alto custo computacional foi um fator limitante para este projeto, mas uma melhoria no pré-processamento se mostrou mais eficaz do que uma tunagem de hiperparâmetros, por exemplo. Isso mostra que a qualidade do conjunto de dados tem maior impacto no resultado final do que os algoritmos empregados.\n",
        "\n",
        "A abordagem com \"pesos\" para algumas categorias pode ser bem arbitrário e depende muito do conjunto de dados, uma abordagem tomada aqui, pode não ser a melhor para outro conjunto.\n",
        "\n",
        "Apesar de obtermos 98,54 % de F1 aplicado a base de teste utilizando os algoritimos, o resultado final do modelo é de 93,14 % de F1-Score pois ocorreu Overfitting que é quando o modelo aprende demais sobre os dados.Assim não condizendo com a realizadade.\n",
        "\n",
        "---\n",
        "$ Ranking $ $geral:$\n",
        "\n",
        "<p align=\"center\">\n",
        "<img src=\"https://github.com/WellingtonMartinsSantos/Competi-o-Flai/blob/main/Data/Placar%20Final%20FLAI.PNG?raw=true\" />\n",
        "</p>\n",
        "\n",
        "Caso tenha alguma dúvida, sugestão ou crítica, por favor, não hesite em dizer.  Sua opinião será sempre bem-vinda. \n",
        "\n",
        "\n",
        "---\n",
        "* [Meu LinkedIn](https://www.linkedin.com/in/wellington-martins-5a19638b/) \n",
        "* [Meus Projetos podem ser vistos aqui](https://github.com/WellingtonMartinsSantos)"
      ]
    },
    {
      "cell_type": "code",
      "metadata": {
        "id": "x0bIICDCTWPL"
      },
      "source": [
        ""
      ],
      "execution_count": null,
      "outputs": []
    }
  ]
}